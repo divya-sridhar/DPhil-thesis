{
 "cells": [
  {
   "cell_type": "markdown",
   "metadata": {},
   "source": [
    "# Annotating Peaks"
   ]
  },
  {
   "cell_type": "code",
   "execution_count": 1,
   "metadata": {},
   "outputs": [],
   "source": [
    "import pandas as pd"
   ]
  },
  {
   "cell_type": "markdown",
   "metadata": {},
   "source": [
    "## Dual Summits Plots\n",
    "\n",
    "Load files into Pandas dataframes."
   ]
  },
  {
   "cell_type": "code",
   "execution_count": 2,
   "metadata": {},
   "outputs": [],
   "source": [
    "enhancer_annotation = pd.read_csv(\"~/Desktop/Divya/Thesis/enhancers/enhancer_annotation.csv\")\n",
    "chip_dualsummits = pd.read_csv(\"~/Desktop/Divya/Thesis/enhancers/chip_dualsummits.bed\", sep='\\t', header=None)"
   ]
  },
  {
   "cell_type": "markdown",
   "metadata": {},
   "source": [
    "First we will look at intergenics, and then at introns. We extract the peak annotations for each."
   ]
  },
  {
   "cell_type": "code",
   "execution_count": 3,
   "metadata": {},
   "outputs": [],
   "source": [
    "anno_col = enhancer_annotation['annotation']  ## extract 'annotation column' \n",
    "# Get intron and intergenic indices\n",
    "intron_indices = anno_col.str.contains(\"Intron\")\n",
    "exon_indices = anno_col.str.contains(\"Exon\")\n",
    "intergenic_indices = ~exon_indices & ~intron_indices"
   ]
  },
  {
   "cell_type": "code",
   "execution_count": 4,
   "metadata": {},
   "outputs": [],
   "source": [
    "# Select only the intron and intergenic peaks\n",
    "intron_peaks = enhancer_annotation[intron_indices]\n",
    "intergenic_peaks = enhancer_annotation[intergenic_indices]"
   ]
  },
  {
   "cell_type": "code",
   "execution_count": 5,
   "metadata": {},
   "outputs": [
    {
     "name": "stdout",
     "output_type": "stream",
     "text": [
      "Sanity Checks\n",
      "-------------\n",
      "Total number of rows: 6032\n",
      "Number of Intron rows: 2003\n",
      "Number of Intergenic rows: 3001\n",
      "Intersections between Intron and Intergenic rows: 0\n"
     ]
    }
   ],
   "source": [
    "# Sanity checks\n",
    "print(\"Sanity Checks\\n-------------\")\n",
    "print(\"Total number of rows:\", len(enhancer_annotation))\n",
    "print(\"Number of Intron rows:\", len(intron_peaks))\n",
    "print(\"Number of Intergenic rows:\", len(intergenic_peaks))\n",
    "print(\"Intersections between Intron and Intergenic rows:\", (intron_indices & intergenic_indices).sum())"
   ]
  },
  {
   "cell_type": "markdown",
   "metadata": {},
   "source": [
    "### Introns and Intergenics\n",
    "#### Determine intron and intergenic chip peaks \n"
   ]
  },
  {
   "cell_type": "code",
   "execution_count": 6,
   "metadata": {},
   "outputs": [],
   "source": [
    "intron_chip = chip_dualsummits[chip_dualsummits.iloc[:,3].isin(intron_peaks.iloc[:,5])]\n",
    "intergenic_chip = chip_dualsummits[chip_dualsummits.iloc[:,3].isin(intergenic_peaks.iloc[:,5])]"
   ]
  },
  {
   "cell_type": "code",
   "execution_count": 7,
   "metadata": {},
   "outputs": [
    {
     "name": "stdout",
     "output_type": "stream",
     "text": [
      "Number of intronic: 2191\n",
      "Number of intergenic: 3132\n"
     ]
    }
   ],
   "source": [
    "print(\"Number of intronic:\", len(intron_chip))\n",
    "print(\"Number of intergenic:\", len(intergenic_chip))"
   ]
  },
  {
   "cell_type": "markdown",
   "metadata": {},
   "source": [
    "#### Determine intergenic X1 RNA.\n",
    "\n",
    "Load files."
   ]
  },
  {
   "cell_type": "code",
   "execution_count": 8,
   "metadata": {},
   "outputs": [],
   "source": [
    "RNAchipintron = pd.read_csv(\"/Users/edwinlock/Desktop/Divya/Thesis/enhancers/rna_dualchipintrons.tab\",\n",
    "                            sep=\"\\t\",\n",
    "                            header=None,\n",
    "                            skiprows=3)\n",
    "RNAchipintergenic = pd.read_csv(\"/Users/edwinlock/Desktop/Divya/Thesis/enhancers/rna_dualchipintergenic.tab\",\n",
    "                                sep=\"\\t\",\n",
    "                                header=None,\n",
    "                                skiprows=3)"
   ]
  },
  {
   "cell_type": "markdown",
   "metadata": {},
   "source": [
    "Filter out relevant peaks."
   ]
  },
  {
   "cell_type": "code",
   "execution_count": 9,
   "metadata": {
    "scrolled": true
   },
   "outputs": [],
   "source": [
    "# Set threshold for x1rna regions\n",
    "x1rna_threshold = 0\n",
    "# Compute 'filter' mask\n",
    "intron_x1rna_mask = RNAchipintron.mean(axis=1).values > x1rna_threshold\n",
    "intergenic_x1rna_mask = RNAchipintergenic.mean(axis=1).values > x1rna_threshold\n",
    "# Extract all accessible peaks\n",
    "intron_x1rna = intron_chip[intron_x1rna_mask]\n",
    "intergenic_x1rna = intergenic_chip[intergenic_x1rna_mask]"
   ]
  },
  {
   "cell_type": "code",
   "execution_count": 10,
   "metadata": {
    "scrolled": true
   },
   "outputs": [
    {
     "name": "stdout",
     "output_type": "stream",
     "text": [
      "Sanity check\n",
      "------------\n",
      "Number of intronic X1 RNA: 2074\n",
      "Number of intergenic X1 RNA: 2807\n"
     ]
    }
   ],
   "source": [
    "print(\"Sanity check\\n------------\")\n",
    "print(\"Number of intronic X1 RNA:\", len(intron_x1rna))\n",
    "print(\"Number of intergenic X1 RNA:\", len(intergenic_x1rna))"
   ]
  },
  {
   "cell_type": "markdown",
   "metadata": {},
   "source": [
    "#### Determine accessible regions.\n",
    "Load files."
   ]
  },
  {
   "cell_type": "code",
   "execution_count": 11,
   "metadata": {},
   "outputs": [],
   "source": [
    "intron_atac = pd.read_csv(\"/Users/edwinlock/Desktop/Divya/Thesis/enhancers/atacchipintron.tab\",\n",
    "                          sep=\"\\t\",\n",
    "                          header=None,\n",
    "                          skiprows=3)\n",
    "intergenic_atac = pd.read_csv(\"/Users/edwinlock/Desktop/Divya/Thesis/enhancers/atacchipintergenic.tab\",\n",
    "                              sep=\"\\t\",\n",
    "                              header=None,\n",
    "                              skiprows=3)"
   ]
  },
  {
   "cell_type": "markdown",
   "metadata": {},
   "source": [
    "Filter out relevant peaks."
   ]
  },
  {
   "cell_type": "code",
   "execution_count": 12,
   "metadata": {},
   "outputs": [],
   "source": [
    "# Set threshold for accessible regions\n",
    "intron_accessible_threshold = 5\n",
    "intergenic_accessible_threshold = 5\n",
    "# Compute 'filter' masks\n",
    "intron_accessible_mask = intron_atac.mean(axis=1).values >= intron_accessible_threshold\n",
    "intergenic_accessible_mask = intergenic_atac.mean(axis=1).values >= intergenic_accessible_threshold\n",
    "# Extract all accessible peaks\n",
    "intron_accessible = intron_chip[intron_accessible_mask]\n",
    "intergenic_accessible = intergenic_chip[intergenic_accessible_mask]"
   ]
  },
  {
   "cell_type": "code",
   "execution_count": 13,
   "metadata": {},
   "outputs": [
    {
     "name": "stdout",
     "output_type": "stream",
     "text": [
      "Number of accessible intronics: 1472\n",
      "Number of accessible intergenics: 2161\n"
     ]
    }
   ],
   "source": [
    "print(\"Number of accessible intronics:\", len(intron_accessible))\n",
    "print(\"Number of accessible intergenics:\", len(intergenic_accessible))"
   ]
  },
  {
   "cell_type": "markdown",
   "metadata": {},
   "source": [
    "#### Analyse H3K4me3 overlap"
   ]
  },
  {
   "cell_type": "code",
   "execution_count": 14,
   "metadata": {},
   "outputs": [],
   "source": [
    "h3k4me3_values = pd.read_csv(\"/Users/edwinlock/Desktop/Divya/Thesis/enhancers/h3k4me3around_dualsummits.tab\",\n",
    "                             sep=\"\\t\",\n",
    "                             header=None,\n",
    "                             skiprows=3)"
   ]
  },
  {
   "cell_type": "code",
   "execution_count": 15,
   "metadata": {},
   "outputs": [],
   "source": [
    "# Set threshold for h3k4me3 regions\n",
    "h3m4ke3_threshold = 0.58\n",
    "# Compute the 'filter' mask\n",
    "h3m4ke3_mask = h3k4me3_values.mean(axis=1).values >= h3m4ke3_threshold\n",
    "# Extract all h3k4me3 peaks\n",
    "h3k4me3_chip = chip_dualsummits[h3m4ke3_mask]"
   ]
  },
  {
   "cell_type": "code",
   "execution_count": 16,
   "metadata": {},
   "outputs": [
    {
     "name": "stdout",
     "output_type": "stream",
     "text": [
      "Number of H3K4me3 peaks: 2122\n"
     ]
    }
   ],
   "source": [
    "print(\"Number of H3K4me3 peaks:\", len(h3k4me3_chip))"
   ]
  },
  {
   "cell_type": "markdown",
   "metadata": {
    "scrolled": true
   },
   "source": [
    "#### Collate data for UpSetR figure\n",
    "Load externally generated files for X1 ATAC."
   ]
  },
  {
   "cell_type": "code",
   "execution_count": 17,
   "metadata": {},
   "outputs": [],
   "source": [
    "# Load externally generated files\n",
    "intron_x1_chip = pd.read_csv(\"~/Desktop/Divya/Thesis/enhancers/chip_intron_x1atac.bed\",\n",
    "                             sep=\"\\t\",\n",
    "                             header=None)\n",
    "intergenic_x1_chip = pd.read_csv(\"~/Desktop/Divya/Thesis/enhancers/chip_intergenic_x1atac.bed\",\n",
    "                                 sep=\"\\t\",\n",
    "                                 header=None)"
   ]
  },
  {
   "cell_type": "markdown",
   "metadata": {},
   "source": [
    "Determine peak sets from all subsets generated so far.."
   ]
  },
  {
   "cell_type": "code",
   "execution_count": 18,
   "metadata": {},
   "outputs": [],
   "source": [
    "# Compute peak sets from all subsets\n",
    "intron_peakset = set(intron_chip.iloc[:,3])\n",
    "intergenic_peakset = set(intergenic_chip.iloc[:,3])\n",
    "\n",
    "intron_accessible_peakset = set(intron_accessible.iloc[:,3])\n",
    "intergenic_accessible_peakset = set(intergenic_accessible.iloc[:,3])\n",
    "accessible_peakset = intron_accessible_peakset.union(intergenic_accessible_peakset)\n",
    "\n",
    "intron_x1_peakset = set(intron_x1_chip.iloc[:,3])\n",
    "intergenic_x1_peakset = set(intergenic_x1_chip.iloc[:,3])\n",
    "x1_peakset = intron_x1_peakset.union(intergenic_x1_peakset)\n",
    "\n",
    "# Abandoned: x1rna_peakset = set(intron_x1rna.iloc[:,3]).union(set(intergenic_x1rna.iloc[:,3]))\n",
    "x1rna_peakset = set(intergenic_x1rna.iloc[:,3])\n",
    "\n",
    "h3k4me3_peakset = set(h3k4me3_chip.iloc[:,3])\n"
   ]
  },
  {
   "cell_type": "code",
   "execution_count": 19,
   "metadata": {},
   "outputs": [
    {
     "name": "stdout",
     "output_type": "stream",
     "text": [
      "Peakset sizes:\n",
      "--------------\n",
      "Intronic: 1640\n",
      "Intergenic: 2350\n",
      "Accessible: 2656\n",
      "X1ATAC: 172\n",
      "X1RNA: 2126\n",
      "H3K4me3: 1633\n"
     ]
    }
   ],
   "source": [
    "# Sanity check output\n",
    "print(\"Peakset sizes:\\n--------------\")\n",
    "print(\"Intronic:\", len(intron_peakset))\n",
    "print(\"Intergenic:\", len(intergenic_peakset))\n",
    "print(\"Accessible:\", len(accessible_peakset))\n",
    "print(\"X1ATAC:\", len(x1_peakset))\n",
    "print(\"X1RNA:\", len(x1rna_peakset))\n",
    "print(\"H3K4me3:\", len(h3k4me3_peakset))"
   ]
  },
  {
   "cell_type": "markdown",
   "metadata": {},
   "source": [
    "Create new dictionary that helps us generate the UpSetR command."
   ]
  },
  {
   "cell_type": "code",
   "execution_count": 20,
   "metadata": {},
   "outputs": [],
   "source": [
    "d = {}\n",
    "\n",
    "# OPTIONAL:\n",
    "# d['Intronic region'] = len(intron_peakset)\n",
    "# d['Intergenic region'] = len(intergenic_peakset)\n",
    "# d['Accessible region'] = len(accessible_peakset)\n",
    "# d['ATAC peak'] = len(x1_peakset)\n",
    "# d['RNA transcript'] = len(x1rna_peakset)\n",
    "# d['H3K4me3'] = len(h3k4me3_peakset)\n",
    "\n",
    "d['Intronic region&ATAC peak'] = len(intron_peakset.intersection(x1_peakset))  # or should this be intron_x1_peakset???\n",
    "d['Intergenic region&ATAC peak'] = len(intergenic_peakset.intersection(x1_peakset))\n",
    "\n",
    "d['Intronic region&H3K4me3'] = len(intron_peakset.intersection(h3k4me3_peakset))\n",
    "d['Intergenic region&H3K4me3'] = len(intergenic_peakset.intersection(h3k4me3_peakset))\n",
    "\n",
    "d['Intergenic region&ATAC peak&RNA transcript'] = len(intergenic_peakset.intersection(x1_peakset, x1rna_peakset))\n",
    "\n",
    "d['Intronic region&Accessible region'] = len(intron_peakset.intersection(accessible_peakset))\n",
    "d['Intergenic region&Accessible region'] = len(intergenic_peakset.intersection(accessible_peakset))\n",
    "\n",
    "d['Intergenic region&ATAC peak&RNA transcript&H3K4me3'] = len(intergenic_peakset.intersection(x1_peakset,\n",
    "                                                                           x1rna_peakset,\n",
    "                                                                           h3k4me3_peakset))\n",
    "\n",
    "d['Intronic region&Accessible region&H3K4me3'] = len(intron_peakset.intersection(accessible_peakset,\n",
    "                                                                   h3k4me3_peakset))\n",
    "d['Intergenic region&Accessible region&H3K4me3'] = len(intergenic_peakset.intersection(accessible_peakset,\n",
    "                                                                         h3k4me3_peakset))\n",
    "\n",
    "d['Intronic region&ATAC peak&H3K4me3'] = len(intron_peakset.intersection(x1_peakset,\n",
    "                                                               h3k4me3_peakset))\n",
    "d['Intergenic region&ATAC peak&H3K4me3'] = len(intergenic_peakset.intersection(x1_peakset,\n",
    "                                                                     h3k4me3_peakset))\n",
    "\n",
    "d['Intergenic region&RNA transcript'] = len(intergenic_peakset.intersection(x1rna_peakset))\n",
    "\n",
    "d['Intergenic region&Accessible region&RNA transcript'] = len(intergenic_peakset.intersection(accessible_peakset, x1rna_peakset))\n"
   ]
  },
  {
   "cell_type": "code",
   "execution_count": 21,
   "metadata": {},
   "outputs": [],
   "source": [
    "sets = [\"Intronic region\", \"Intergenic region\", \"Accessible region\", \"ATAC peak\", \"RNA transcript\", \"H3K4me3\"]"
   ]
  },
  {
   "cell_type": "markdown",
   "metadata": {},
   "source": [
    "Define helper function that outputs the upSetR command given a data dictionary."
   ]
  },
  {
   "cell_type": "code",
   "execution_count": 22,
   "metadata": {},
   "outputs": [],
   "source": [
    "def upSetR_cmd(d, sets, filename, colour=\"gray23\"):\n",
    "    \"\"\"Computes the R commands required to plot the data in dictionary d using the upSetR library.\"\"\"\n",
    "    vector = \"c(\\n\" + ',\\n'.join([f\"`{key}` = {d[key]}\" for key in d]) + \")\"\n",
    "    sets = 'c(' + ', '.join([f\"\\'{s}\\'\" for s in sets]) + \")\"\n",
    "    output = \"library(UpSetR)\\n\"\n",
    "    output += f\"expressionInput <- {vector}\\n\"\n",
    "    output += \"data <- fromExpression(expressionInput)\\n\"\n",
    "    output += f\"sets <- {sets}\\n\"\n",
    "    output += f\"pdf(file=\\\"{filename}\\\")\\n\"\n",
    "    output += f'upset(data, sets=sets,\\n order.by=c(\"degree\", \"freq\"),\\n main.bar.color=\\\"{colour}\\\",\\n matrix.color=\\\"{colour}\\\",\\n text.scale=1.3)\\n'\n",
    "    output += \"dev.off()\\n\"\n",
    "    return output"
   ]
  },
  {
   "cell_type": "code",
   "execution_count": 23,
   "metadata": {},
   "outputs": [
    {
     "name": "stdout",
     "output_type": "stream",
     "text": [
      "library(UpSetR)\n",
      "expressionInput <- c(\n",
      "`Intronic region&ATAC peak` = 54,\n",
      "`Intergenic region&ATAC peak` = 121,\n",
      "`Intronic region&H3K4me3` = 350,\n",
      "`Intergenic region&H3K4me3` = 1074,\n",
      "`Intergenic region&ATAC peak&RNA transcript` = 118,\n",
      "`Intronic region&Accessible region` = 1085,\n",
      "`Intergenic region&Accessible region` = 1605,\n",
      "`Intergenic region&ATAC peak&RNA transcript&H3K4me3` = 66,\n",
      "`Intronic region&Accessible region&H3K4me3` = 281,\n",
      "`Intergenic region&Accessible region&H3K4me3` = 867,\n",
      "`Intronic region&ATAC peak&H3K4me3` = 12,\n",
      "`Intergenic region&ATAC peak&H3K4me3` = 67,\n",
      "`Intergenic region&RNA transcript` = 2126,\n",
      "`Intergenic region&Accessible region&RNA transcript` = 1505)\n",
      "data <- fromExpression(expressionInput)\n",
      "sets <- c('Intronic region', 'Intergenic region', 'Accessible region', 'ATAC peak', 'RNA transcript', 'H3K4me3')\n",
      "pdf(file=\"dualsummits.pdf\")\n",
      "upset(data, sets=sets,\n",
      " order.by=c(\"degree\", \"freq\"),\n",
      " main.bar.color=\"gray23\",\n",
      " matrix.color=\"gray23\",\n",
      " text.scale=1.3)\n",
      "dev.off()\n",
      "\n"
     ]
    }
   ],
   "source": [
    "print(upSetR_cmd(d, sets, \"dualsummits.pdf\"))"
   ]
  },
  {
   "cell_type": "markdown",
   "metadata": {},
   "source": [
    "## Generate output file"
   ]
  },
  {
   "cell_type": "code",
   "execution_count": 24,
   "metadata": {},
   "outputs": [],
   "source": [
    "output_df = pd.read_csv(\"~/Desktop/Divya/Thesis/enhancers/enhancer_annotation.csv\")\n",
    "output_df['Type'] = 'chip'\n",
    "output_df['Region'] = None\n",
    "output_df['ATAC peak'] = 0\n",
    "output_df['RNA transcript'] = 0\n",
    "output_df['H3K4me3'] = 0\n",
    "output_df['Accessible region'] = 0\n",
    "\n",
    "for i in range(len(output_df)):\n",
    "    peakname = output_df.iloc[i,5]\n",
    "    if peakname in intron_peakset: output_df.iloc[i,21] = \"Intronic\"\n",
    "    if peakname in intergenic_peakset: output_df.iloc[i,21] = \"Intergenic\"\n",
    "    if peakname in x1_peakset: output_df.iloc[i,22] = 1\n",
    "    if peakname in x1rna_peakset: output_df.iloc[i,23] = 1\n",
    "    if peakname in h3k4me3_peakset: output_df.iloc[i,24] = 1\n",
    "    if peakname in accessible_peakset: output_df.iloc[i,25] = 1"
   ]
  },
  {
   "cell_type": "code",
   "execution_count": 25,
   "metadata": {},
   "outputs": [],
   "source": [
    "output_df.to_csv(\"~/Desktop/Divya/Thesis/enhancers/enhancer_annotated.csv\", index=False)"
   ]
  },
  {
   "cell_type": "markdown",
   "metadata": {},
   "source": [
    "## Single H3K4me1 (not part of the dual summits)"
   ]
  },
  {
   "cell_type": "code",
   "execution_count": 26,
   "metadata": {},
   "outputs": [],
   "source": [
    "h3k4me1_summits = pd.read_csv(\"~/Desktop/Divya/Thesis/enhancers/h3k4me1_summits.bed\", sep='\\t', header=None)"
   ]
  },
  {
   "cell_type": "code",
   "execution_count": 27,
   "metadata": {},
   "outputs": [],
   "source": [
    "# Compute the difference of h3k27ac_summits and dual_k4_summits\n",
    "chip_k4_dualsummits = pd.read_csv(\"~/Desktop/Divya/Thesis/enhancers/chip_dualsummits.bed\", sep='\\t', header=None)\n",
    "dual_peak_names = chip_k4_dualsummits.iloc[:,3]\n",
    "unique_k4_chip = h3k4me1_summits[~h3k4me1_summits.iloc[:,3].isin(dual_peak_names)]"
   ]
  },
  {
   "cell_type": "code",
   "execution_count": 28,
   "metadata": {},
   "outputs": [],
   "source": [
    "enhancer_annotation_k4 = pd.read_csv(\"~/Desktop/Divya/Thesis/enhancers/enhancer_annotation_h3k4me1.csv\")\n",
    "anno_col_k4 = enhancer_annotation_k4['annotation']  ## extract 'annotation column' \n",
    "# Get intron and intergenic indices\n",
    "intron_indices_k4 = anno_col_k4.str.contains(\"Intron\")\n",
    "exon_indices_k4 = anno_col_k4.str.contains(\"Exon\")\n",
    "intergenic_indices_k4 = ~exon_indices_k4 & ~intron_indices_k4\n",
    "# Select only the intron and intergenic peaks\n",
    "intron_peaks_k4 = enhancer_annotation_k4[intron_indices_k4]\n",
    "intergenic_peaks_k4 = enhancer_annotation_k4[intergenic_indices_k4]"
   ]
  },
  {
   "cell_type": "markdown",
   "metadata": {},
   "source": [
    "#### Determine intronic and intergenic peaks"
   ]
  },
  {
   "cell_type": "code",
   "execution_count": 29,
   "metadata": {},
   "outputs": [],
   "source": [
    "intron_k4_chip = unique_k4_chip[unique_k4_chip.iloc[:,3].isin(intron_peaks_k4.iloc[:,5])]\n",
    "intergenic_k4_chip = unique_k4_chip[unique_k4_chip.iloc[:,3].isin(intergenic_peaks_k4.iloc[:,5])]"
   ]
  },
  {
   "cell_type": "code",
   "execution_count": 30,
   "metadata": {},
   "outputs": [
    {
     "name": "stdout",
     "output_type": "stream",
     "text": [
      "Number of intron: 3990\n",
      "Number of intergenic: 4043\n"
     ]
    }
   ],
   "source": [
    "print(\"Number of intron:\", len(intron_k4_chip))\n",
    "print(\"Number of intergenic:\", len(intergenic_k4_chip))"
   ]
  },
  {
   "cell_type": "markdown",
   "metadata": {},
   "source": [
    "#### Determine intron and intergenic X1 RNA."
   ]
  },
  {
   "cell_type": "code",
   "execution_count": 31,
   "metadata": {},
   "outputs": [],
   "source": [
    "RNAchipintron_k4 = pd.read_csv(\"/Users/edwinlock/Desktop/Divya/Thesis/enhancers/rna_intron_unique_h3k4me1.tab\",\n",
    "                            sep=\"\\t\",\n",
    "                            header=None,\n",
    "                            skiprows=3)\n",
    "RNAchipintergenic_k4 = pd.read_csv(\"/Users/edwinlock/Desktop/Divya/Thesis/enhancers/rna_intergenic_unique_h3k4me1.tab\",\n",
    "                                sep=\"\\t\",\n",
    "                                header=None,\n",
    "                                skiprows=3)"
   ]
  },
  {
   "cell_type": "markdown",
   "metadata": {},
   "source": [
    "Filter out relevant peaks."
   ]
  },
  {
   "cell_type": "code",
   "execution_count": 32,
   "metadata": {},
   "outputs": [],
   "source": [
    "# Set threshold for x1rna regions\n",
    "x1rna_threshold_k4 = 0\n",
    "# Compute 'filter' mask\n",
    "intron_x1rna_mask_k4 = RNAchipintron_k4.mean(axis=1).values > x1rna_threshold_k4\n",
    "intergenic_x1rna_mask_k4 = RNAchipintergenic_k4.mean(axis=1).values > x1rna_threshold_k4\n",
    "# Extract all accessible peaks\n",
    "intron_x1rna_k4 = intron_k4_chip[intron_x1rna_mask_k4]\n",
    "intergenic_x1rna_k4 = intergenic_k4_chip[intergenic_x1rna_mask_k4]"
   ]
  },
  {
   "cell_type": "code",
   "execution_count": 33,
   "metadata": {
    "scrolled": true
   },
   "outputs": [
    {
     "name": "stdout",
     "output_type": "stream",
     "text": [
      "Number of intron X1 RNA: 3805\n",
      "Number of intergenic X1 RNA: 3800\n"
     ]
    }
   ],
   "source": [
    "print(\"Number of intron X1 RNA:\", len(intron_x1rna_k4))\n",
    "print(\"Number of intergenic X1 RNA:\", len(intergenic_x1rna_k4))"
   ]
  },
  {
   "cell_type": "markdown",
   "metadata": {},
   "source": [
    "#### Determine accessible regions."
   ]
  },
  {
   "cell_type": "code",
   "execution_count": 34,
   "metadata": {},
   "outputs": [],
   "source": [
    "intron_atac_tab_k4 = pd.read_csv(\"/Users/edwinlock/Desktop/Divya/Thesis/enhancers/atac_intron_unique_h3k4me1.tab\",\n",
    "                          sep=\"\\t\",\n",
    "                          header=None,\n",
    "                          skiprows=3)\n",
    "intergenic_atac_tab_k4 = pd.read_csv(\"/Users/edwinlock/Desktop/Divya/Thesis/enhancers/atac_intergenic_unique_h3k4me1.tab\",\n",
    "                              sep=\"\\t\",\n",
    "                              header=None,\n",
    "                              skiprows=3)"
   ]
  },
  {
   "cell_type": "code",
   "execution_count": 35,
   "metadata": {},
   "outputs": [],
   "source": [
    "# Set threshold for accessible regions\n",
    "intron_accessible_threshold_k4 = 5\n",
    "intergenic_accessible_threshold_k4 = 5\n",
    "# Compute 'filter' masks\n",
    "intron_accessible_mask_k4 = intron_atac_tab_k4.mean(axis=1).values >= intron_accessible_threshold_k4\n",
    "intergenic_accessible_mask_k4 = intergenic_atac_tab_k4.mean(axis=1).values >= intergenic_accessible_threshold_k4\n",
    "# Extract all accessible peaks\n",
    "intron_accessible_k4 = intron_k4_chip[intron_accessible_mask_k4]\n",
    "intergenic_accessible_k4 = intergenic_k4_chip[intergenic_accessible_mask_k4]"
   ]
  },
  {
   "cell_type": "code",
   "execution_count": 36,
   "metadata": {},
   "outputs": [
    {
     "name": "stdout",
     "output_type": "stream",
     "text": [
      "Number of accessible intronics: 2279\n",
      "Number of accessible intergenics: 2649\n"
     ]
    }
   ],
   "source": [
    "print(\"Number of accessible intronics:\", len(intron_accessible_k4))\n",
    "print(\"Number of accessible intergenics:\", len(intergenic_accessible_k4))"
   ]
  },
  {
   "cell_type": "markdown",
   "metadata": {},
   "source": [
    "#### Analyse H3K4me3 overlap"
   ]
  },
  {
   "cell_type": "code",
   "execution_count": 37,
   "metadata": {},
   "outputs": [],
   "source": [
    "file_intron = \"/Users/edwinlock/Desktop/Divya/Thesis/enhancers/k4me3around_unique_h3k4me1_introns.tab\"\n",
    "file_intergenic = \"/Users/edwinlock/Desktop/Divya/Thesis/enhancers/k4me3around_unique_h3k4me1_intergenic.tab\"\n",
    "intron_h3k4me3_around_h3k4me1_values = pd.read_csv(file_intron,\n",
    "                                                   sep=\"\\t\",\n",
    "                                                   header=None,\n",
    "                                                   skiprows=3)\n",
    "intergenic_h3k4me3_around_h3k4me1_values = pd.read_csv(file_intergenic,\n",
    "                                                       sep=\"\\t\",\n",
    "                                                       header=None,\n",
    "                                                       skiprows=3)"
   ]
  },
  {
   "cell_type": "code",
   "execution_count": 38,
   "metadata": {},
   "outputs": [
    {
     "name": "stdout",
     "output_type": "stream",
     "text": [
      "Mean H3K4me3 values\n",
      "-------------------\n",
      "Intronic: 0.4527863002576341\n",
      "Intergenic: 0.8604562046594212\n"
     ]
    }
   ],
   "source": [
    "print(\"Mean H3K4me3 values\\n-------------------\")\n",
    "print(\"Intronic:\", intron_h3k4me3_around_h3k4me1_values.mean(axis=1).mean())\n",
    "print(\"Intergenic:\", intergenic_h3k4me3_around_h3k4me1_values.mean(axis=1).mean())"
   ]
  },
  {
   "cell_type": "code",
   "execution_count": 39,
   "metadata": {},
   "outputs": [],
   "source": [
    "# Set threshold for h3k4me3 regions\n",
    "h3m4ke3_intron_threshold_k4 = 0.45\n",
    "h3m4ke3_intergenic_threshold_k4 = 0.86\n",
    "# Compute the 'filter' masks\n",
    "h3m4ke3_intron_mask_k4 = (intron_h3k4me3_around_h3k4me1_values.mean(axis=1).values >=\n",
    "                          h3m4ke3_intron_threshold_k4)\n",
    "h3m4ke3_intergenic_mask_k4 = (intergenic_h3k4me3_around_h3k4me1_values.mean(axis=1).values >=\n",
    "                              h3m4ke3_intergenic_threshold_k4)\n",
    "# Extract all h3k4me3 peaks\n",
    "intron_h3k4me3_k4_chip = intron_k4_chip[h3m4ke3_intron_mask_k4]\n",
    "intergenic_h3k4me3_k4_chip = intergenic_k4_chip[h3m4ke3_intergenic_mask_k4]"
   ]
  },
  {
   "cell_type": "code",
   "execution_count": 40,
   "metadata": {},
   "outputs": [
    {
     "name": "stdout",
     "output_type": "stream",
     "text": [
      "Number of H3K4me3 peaks\n",
      "-----------------------\n",
      "Intronic: 1054\n",
      "Intergenic: 1618\n"
     ]
    }
   ],
   "source": [
    "print(\"Number of H3K4me3 peaks\\n-----------------------\")\n",
    "print(\"Intronic:\", len(intron_h3k4me3_k4_chip))\n",
    "print(\"Intergenic:\", len(intergenic_h3k4me3_k4_chip))"
   ]
  },
  {
   "cell_type": "markdown",
   "metadata": {},
   "source": [
    "#### Assemble data for UpSetR command"
   ]
  },
  {
   "cell_type": "code",
   "execution_count": 41,
   "metadata": {},
   "outputs": [],
   "source": [
    "# Load externally generated files\n",
    "intron_atac_k4 = pd.read_csv(\"/Users/edwinlock/Desktop/Divya/Thesis/enhancers/intron_unique_h3k4me1_x1atac.bed\",\n",
    "                          sep=\"\\t\",\n",
    "                          header=None,\n",
    "                          skiprows=3)\n",
    "intergenic_atac_k4 = pd.read_csv(\"/Users/edwinlock/Desktop/Divya/Thesis/enhancers/intergenic_unique_h3k4me1_x1atac.bed\",\n",
    "                              sep=\"\\t\",\n",
    "                              header=None,\n",
    "                              skiprows=3)"
   ]
  },
  {
   "cell_type": "code",
   "execution_count": 42,
   "metadata": {},
   "outputs": [],
   "source": [
    "# Compute peak sets from all subsets\n",
    "intron_peakset_k4 = set(intron_k4_chip.iloc[:,3])\n",
    "intergenic_peakset_k4 = set(intergenic_k4_chip.iloc[:,3])\n",
    "\n",
    "intron_accessible_peakset_k4 = set(intron_accessible_k4.iloc[:,3])\n",
    "intergenic_accessible_peakset_k4 = set(intergenic_accessible_k4.iloc[:,3])\n",
    "accessible_peakset_k4 = intron_accessible_peakset_k4.union(intergenic_accessible_peakset_k4)\n",
    "\n",
    "intron_x1_peakset_k4 = set(intron_atac_k4.iloc[:,3])\n",
    "intergenic_x1_peakset_k4 = set(intergenic_atac_k4.iloc[:,3])\n",
    "x1_peakset_k4 = intron_x1_peakset_k4.union(intergenic_x1_peakset_k4)\n",
    "\n",
    "# x1rna_peakset_k4 = set(intron_x1rna_k4.iloc[:,3]).union(set(intergenic_x1rna_k4.iloc[:,3]))\n",
    "x1rna_peakset_k4 = set(intergenic_x1rna_k4.iloc[:,3])\n",
    "\n",
    "h3k4me3_peakset_intron_k4 = set(intron_h3k4me3_k4_chip.iloc[:,3])\n",
    "h3k4me3_peakset_intergenic_k4 = set(intergenic_h3k4me3_k4_chip.iloc[:,3])\n",
    "h3k4me3_peakset_k4 = h3k4me3_peakset_intron_k4.union(h3k4me3_peakset_intergenic_k4)"
   ]
  },
  {
   "cell_type": "code",
   "execution_count": 43,
   "metadata": {
    "scrolled": false
   },
   "outputs": [
    {
     "name": "stdout",
     "output_type": "stream",
     "text": [
      "Peakset sizes:\n",
      "--------------\n",
      "Intronic: 3990\n",
      "Intergenic: 4043\n",
      "Accessible: 4928\n",
      "X1ATAC: 325\n",
      "X1RNA: 3800\n",
      "H3K4me3: 2672\n"
     ]
    }
   ],
   "source": [
    "# Sanity check\n",
    "print(\"Peakset sizes:\\n--------------\")\n",
    "print(\"Intronic:\", len(intron_peakset_k4))\n",
    "print(\"Intergenic:\", len(intergenic_peakset_k4))\n",
    "print(\"Accessible:\", len(accessible_peakset_k4))\n",
    "print(\"X1ATAC:\", len(x1_peakset_k4))\n",
    "print(\"X1RNA:\", len(x1rna_peakset_k4))\n",
    "print(\"H3K4me3:\", len(h3k4me3_peakset_k4))"
   ]
  },
  {
   "cell_type": "markdown",
   "metadata": {},
   "source": [
    "Create new dictionary that helps us generate the UpSetR command."
   ]
  },
  {
   "cell_type": "code",
   "execution_count": 44,
   "metadata": {},
   "outputs": [],
   "source": [
    "d_k4 = {}\n",
    "\n",
    "# OPTIONAL:\n",
    "# d_k4['Intronic region'] = len(intron_peakset)\n",
    "# d_k4['Intergenic region'] = len(intergenic_peakset)\n",
    "# d_k4['Accessible region'] = len(accessible_peakset)\n",
    "# d_k4['ATAC peak'] = len(x1_peakset)\n",
    "# d_k4['RNA transcript'] = len(x1rna_peakset)\n",
    "# d_k4['H3K4me3'] = len(h3k4me3_peakset)\n",
    "\n",
    "d_k4['Intronic region&ATAC peak'] = len(intron_peakset_k4.intersection(x1_peakset_k4))  # or should this be intron_x1_peakset???\n",
    "d_k4['Intergenic region&ATAC peak'] = len(intergenic_peakset_k4.intersection(x1_peakset_k4))\n",
    "\n",
    "d_k4['Intronic region&H3K4me3'] = len(intron_peakset_k4.intersection(h3k4me3_peakset_k4))\n",
    "d_k4['Intergenic region&H3K4me3'] = len(intergenic_peakset_k4.intersection(h3k4me3_peakset_k4))\n",
    "\n",
    "d_k4['Intergenic region&ATAC peak&RNA transcript'] = len(intergenic_peakset_k4.intersection(x1_peakset_k4, x1rna_peakset_k4))\n",
    "\n",
    "d_k4['Intronic region&Accessible region'] = len(intron_peakset_k4.intersection(accessible_peakset_k4))\n",
    "d_k4['Intergenic region&Accessible region'] = len(intergenic_peakset_k4.intersection(accessible_peakset_k4))\n",
    "\n",
    "d_k4['Intergenic region&ATAC peak&RNA transcript&H3K4me3'] = len(intergenic_peakset_k4.intersection(x1_peakset_k4,\n",
    "                                                                           x1rna_peakset_k4,\n",
    "                                                                           h3k4me3_peakset_k4))\n",
    "\n",
    "d_k4['Intronic region&Accessible region&H3K4me3'] = len(intron_peakset_k4.intersection(accessible_peakset_k4,\n",
    "                                                                   h3k4me3_peakset_k4))\n",
    "d_k4['Intergenic region&Accessible region&H3K4me3'] = len(intergenic_peakset_k4.intersection(accessible_peakset_k4,\n",
    "                                                                         h3k4me3_peakset_k4))\n",
    "\n",
    "d_k4['Intronic region&ATAC peak&H3K4me3'] = len(intron_peakset_k4.intersection(x1_peakset_k4,\n",
    "                                                               h3k4me3_peakset_k4))\n",
    "d_k4['Intergenic region&ATAC peak&H3K4me3'] = len(intergenic_peakset_k4.intersection(x1_peakset_k4,\n",
    "                                                                     h3k4me3_peakset_k4))\n",
    "\n",
    "d_k4['Intergenic region&RNA transcript'] = len(intergenic_peakset_k4.intersection(x1rna_peakset_k4))\n",
    "\n",
    "d_k4['Intergenic region&Accessible region&RNA transcript'] = len(intergenic_peakset_k4.intersection(accessible_peakset_k4, x1rna_peakset_k4))\n"
   ]
  },
  {
   "cell_type": "code",
   "execution_count": 45,
   "metadata": {},
   "outputs": [],
   "source": [
    "sets_k4 = [\"Intronic region\", \"Intergenic region\", \"Accessible region\", \"ATAC peak\", \"RNA transcript\", \"H3K4me3\"]"
   ]
  },
  {
   "cell_type": "code",
   "execution_count": 46,
   "metadata": {
    "scrolled": true
   },
   "outputs": [
    {
     "name": "stdout",
     "output_type": "stream",
     "text": [
      "library(UpSetR)\n",
      "expressionInput <- c(\n",
      "`Intronic region&ATAC peak` = 118,\n",
      "`Intergenic region&ATAC peak` = 207,\n",
      "`Intronic region&H3K4me3` = 1054,\n",
      "`Intergenic region&H3K4me3` = 1618,\n",
      "`Intergenic region&ATAC peak&RNA transcript` = 197,\n",
      "`Intronic region&Accessible region` = 2279,\n",
      "`Intergenic region&Accessible region` = 2649,\n",
      "`Intergenic region&ATAC peak&RNA transcript&H3K4me3` = 53,\n",
      "`Intronic region&Accessible region&H3K4me3` = 704,\n",
      "`Intergenic region&Accessible region&H3K4me3` = 1152,\n",
      "`Intronic region&ATAC peak&H3K4me3` = 33,\n",
      "`Intergenic region&ATAC peak&H3K4me3` = 54,\n",
      "`Intergenic region&RNA transcript` = 3800,\n",
      "`Intergenic region&Accessible region&RNA transcript` = 2561)\n",
      "data <- fromExpression(expressionInput)\n",
      "sets <- c('Intronic region', 'Intergenic region', 'Accessible region', 'ATAC peak', 'RNA transcript', 'H3K4me3')\n",
      "pdf(file=\"h3k4me1.pdf\")\n",
      "upset(data, sets=sets,\n",
      " order.by=c(\"degree\", \"freq\"),\n",
      " main.bar.color=\"slateblue4\",\n",
      " matrix.color=\"slateblue4\",\n",
      " text.scale=1.3)\n",
      "dev.off()\n",
      "\n"
     ]
    }
   ],
   "source": [
    "print(upSetR_cmd(d_k4, sets_k4, \"h3k4me1.pdf\", colour=\"slateblue4\"))"
   ]
  },
  {
   "cell_type": "markdown",
   "metadata": {},
   "source": [
    "## Generate output file"
   ]
  },
  {
   "cell_type": "code",
   "execution_count": 47,
   "metadata": {},
   "outputs": [],
   "source": [
    "k4_output_df = pd.read_csv(\"~/Desktop/Divya/Thesis/enhancers/enhancer_annotation_h3k4me1.csv\")\n",
    "k4_output_df['Type'] = 'k4me1'\n",
    "k4_output_df['Region'] = None\n",
    "k4_output_df['ATAC peak'] = 0\n",
    "k4_output_df['RNA transcript'] = 0\n",
    "k4_output_df['H3K4me3'] = 0\n",
    "k4_output_df['Accessible region'] = 0\n",
    "\n",
    "for i in range(len(k4_output_df)):\n",
    "    peakname = k4_output_df.iloc[i,5]\n",
    "    if peakname in intron_peakset_k4: k4_output_df.iloc[i,21] = \"Intronic\"\n",
    "    if peakname in intergenic_peakset_k4: k4_output_df.iloc[i,21] = \"Intergenic\"\n",
    "    if peakname in x1_peakset_k4: k4_output_df.iloc[i,22] = 1\n",
    "    if peakname in x1rna_peakset_k4: k4_output_df.iloc[i,23] = 1\n",
    "    if peakname in h3k4me3_peakset_k4: k4_output_df.iloc[i,24] = 1\n",
    "    if peakname in accessible_peakset_k4: k4_output_df.iloc[i,25] = 1"
   ]
  },
  {
   "cell_type": "code",
   "execution_count": 48,
   "metadata": {},
   "outputs": [],
   "source": [
    "k4_output_df.to_csv(\"~/Desktop/Divya/Thesis/enhancers/enhancer_h3k4me3_annotated.csv\", index=False)"
   ]
  },
  {
   "cell_type": "markdown",
   "metadata": {},
   "source": [
    "## Single H3K27ac (not part of the dual summits)"
   ]
  },
  {
   "cell_type": "code",
   "execution_count": 49,
   "metadata": {},
   "outputs": [],
   "source": [
    "h3k27ac_summits = pd.read_csv(\"~/Desktop/Divya/Thesis/enhancers/h3k27ac_summits.bed\", sep='\\t', header=None)"
   ]
  },
  {
   "cell_type": "code",
   "execution_count": 50,
   "metadata": {},
   "outputs": [],
   "source": [
    "chip_k27_dualsummits = pd.read_csv(\"~/Desktop/Divya/Thesis/enhancers/chip_dualsummits_k27ac_id.bed\", sep='\\t', header=None)\n",
    "dual_peak_names = chip_k27_dualsummits.iloc[:,3]\n",
    "unique_k27_chip = h3k27ac_summits[~h3k27ac_summits.iloc[:,3].isin(dual_peak_names)]"
   ]
  },
  {
   "cell_type": "code",
   "execution_count": 51,
   "metadata": {},
   "outputs": [],
   "source": [
    "# Save to file\n",
    "unique_k27_chip.to_csv(\"~/Desktop/Divya/Thesis/enhancers/chip_k27_summits.bed\", sep=\"\\t\", header=None)"
   ]
  },
  {
   "cell_type": "code",
   "execution_count": 52,
   "metadata": {},
   "outputs": [],
   "source": [
    "enhancer_annotation_k27 = pd.read_csv(\"~/Desktop/Divya/Thesis/enhancers/enhancer_annotation_h3k27ac.csv\")\n",
    "anno_col_k27 = enhancer_annotation_k27['annotation']  ## extract 'annotation column' \n",
    "# Get intron and intergenic indices\n",
    "intron_indices_k27 = anno_col_k27.str.contains(\"Intron\")\n",
    "exon_indices_k27 = anno_col_k27.str.contains(\"Exon\")\n",
    "intergenic_indices_k27 = ~exon_indices_k27 & ~intron_indices_k27\n",
    "# Select only the intron and intergenic peaks\n",
    "intron_peaks_k27 = enhancer_annotation_k27[intron_indices_k27]\n",
    "intergenic_peaks_k27 = enhancer_annotation_k27[intergenic_indices_k27]"
   ]
  },
  {
   "cell_type": "markdown",
   "metadata": {},
   "source": [
    "#### Determine intronic and intergenic peaks"
   ]
  },
  {
   "cell_type": "code",
   "execution_count": 53,
   "metadata": {},
   "outputs": [],
   "source": [
    "intron_k27_chip = unique_k27_chip[unique_k27_chip.iloc[:,3].isin(intron_peaks_k27.iloc[:,5])]\n",
    "intergenic_k27_chip = unique_k27_chip[unique_k27_chip.iloc[:,3].isin(intergenic_peaks_k27.iloc[:,5])]"
   ]
  },
  {
   "cell_type": "code",
   "execution_count": 54,
   "metadata": {},
   "outputs": [
    {
     "name": "stdout",
     "output_type": "stream",
     "text": [
      "Number of intron: 12005\n",
      "Number of intergenic: 19925\n"
     ]
    }
   ],
   "source": [
    "print(\"Number of intron:\", len(intron_k27_chip))\n",
    "print(\"Number of intergenic:\", len(intergenic_k27_chip))"
   ]
  },
  {
   "cell_type": "markdown",
   "metadata": {},
   "source": [
    "#### Determine intron and intergenic X1 RNA."
   ]
  },
  {
   "cell_type": "code",
   "execution_count": 55,
   "metadata": {},
   "outputs": [],
   "source": [
    "RNAchipintron_k27 = pd.read_csv(\"/Users/edwinlock/Desktop/Divya/Thesis/enhancers/rna_intron_unique_h3k27ac.tab\",\n",
    "                            sep=\"\\t\",\n",
    "                            header=None,\n",
    "                            skiprows=3)\n",
    "RNAchipintergenic_k27 = pd.read_csv(\"/Users/edwinlock/Desktop/Divya/Thesis/enhancers/rna_intergenic_unique_h3k27ac.tab\",\n",
    "                                sep=\"\\t\",\n",
    "                                header=None,\n",
    "                                skiprows=3)"
   ]
  },
  {
   "cell_type": "code",
   "execution_count": 56,
   "metadata": {},
   "outputs": [],
   "source": [
    "# Set threshold for x1rna regions\n",
    "x1rna_threshold_k27 = 5\n",
    "# Compute 'filter' mask\n",
    "intron_x1rna_mask_k27 = RNAchipintron_k27.mean(axis=1).values > x1rna_threshold_k27\n",
    "intergenic_x1rna_mask_k27 = RNAchipintergenic_k27.mean(axis=1).values > x1rna_threshold_k27\n",
    "# Extract all accessible peaks\n",
    "intron_x1rna_k27 = intron_k27_chip[intron_x1rna_mask_k27]\n",
    "intergenic_x1rna_k27 = intergenic_k27_chip[intergenic_x1rna_mask_k27]"
   ]
  },
  {
   "cell_type": "code",
   "execution_count": 57,
   "metadata": {},
   "outputs": [
    {
     "name": "stdout",
     "output_type": "stream",
     "text": [
      "Number of intron X1 RNA: 182\n",
      "Number of intergenic X1 RNA: 2074\n"
     ]
    }
   ],
   "source": [
    "print(\"Number of intron X1 RNA:\", len(intron_x1rna_k27))\n",
    "print(\"Number of intergenic X1 RNA:\", len(intergenic_x1rna_k27))"
   ]
  },
  {
   "cell_type": "markdown",
   "metadata": {},
   "source": [
    "#### Determine accessible regions."
   ]
  },
  {
   "cell_type": "code",
   "execution_count": 58,
   "metadata": {},
   "outputs": [],
   "source": [
    "intron_atac_tab_k27 = pd.read_csv(\"/Users/edwinlock/Desktop/Divya/Thesis/enhancers/atac_intron_unique_h3k27ac.tab\",\n",
    "                          sep=\"\\t\",\n",
    "                          header=None,\n",
    "                          skiprows=3)\n",
    "intergenic_atac_tab_k27 = pd.read_csv(\"/Users/edwinlock/Desktop/Divya/Thesis/enhancers/atac_intergenic_unique_h3k27ac.tab\",\n",
    "                              sep=\"\\t\",\n",
    "                              header=None,\n",
    "                              skiprows=3)"
   ]
  },
  {
   "cell_type": "code",
   "execution_count": 59,
   "metadata": {},
   "outputs": [],
   "source": [
    "# Set threshold for accessible regions\n",
    "intron_accessible_threshold_k27 = 5\n",
    "intergenic_accessible_threshold_k27 = 5\n",
    "# Compute 'filter' masks\n",
    "intron_accessible_mask_k27 = intron_atac_tab_k27.mean(axis=1).values >= intron_accessible_threshold_k27\n",
    "intergenic_accessible_mask_k27 = intergenic_atac_tab_k27.mean(axis=1).values >= intergenic_accessible_threshold_k27\n",
    "# Extract all accessible peaks\n",
    "intron_accessible_k27 = intron_k27_chip[intron_accessible_mask_k27]\n",
    "intergenic_accessible_k27 = intergenic_k27_chip[intergenic_accessible_mask_k27]"
   ]
  },
  {
   "cell_type": "code",
   "execution_count": 60,
   "metadata": {},
   "outputs": [
    {
     "name": "stdout",
     "output_type": "stream",
     "text": [
      "Number of accessible intronics: 5153\n",
      "Number of accessible intergenics: 11010\n"
     ]
    }
   ],
   "source": [
    "print(\"Number of accessible intronics:\", len(intron_accessible_k27))\n",
    "print(\"Number of accessible intergenics:\", len(intergenic_accessible_k27))"
   ]
  },
  {
   "cell_type": "markdown",
   "metadata": {},
   "source": [
    "#### Analyse H3K4me3 region overlap."
   ]
  },
  {
   "cell_type": "code",
   "execution_count": 61,
   "metadata": {},
   "outputs": [],
   "source": [
    "file_intron = \"/Users/edwinlock/Desktop/Divya/Thesis/enhancers/k4me3around_unique_h3k27ac_introns.tab\"\n",
    "file_intergenic = \"/Users/edwinlock/Desktop/Divya/Thesis/enhancers/k4me3around_unique_h3k27ac_intergenic.tab\"\n",
    "intron_h3k4me3_around_h3k27ac_values = pd.read_csv(file_intron,\n",
    "                                                   sep=\"\\t\",\n",
    "                                                   header=None,\n",
    "                                                   skiprows=3)\n",
    "intergenic_h3k4me3_around_h3k27ac_values = pd.read_csv(file_intergenic,\n",
    "                                                       sep=\"\\t\",\n",
    "                                                       header=None,\n",
    "                                                       skiprows=3)"
   ]
  },
  {
   "cell_type": "code",
   "execution_count": 62,
   "metadata": {},
   "outputs": [
    {
     "name": "stdout",
     "output_type": "stream",
     "text": [
      "Mean H3K4me3 values\n",
      "-------------------\n",
      "Intronic: 0.0007394901849238641\n",
      "Intergenic: 0.3724214907946551\n"
     ]
    }
   ],
   "source": [
    "print(\"Mean H3K4me3 values\\n-------------------\")\n",
    "print(\"Intronic:\", intron_h3k4me3_around_h3k27ac_values.mean(axis=1).mean())\n",
    "print(\"Intergenic:\", intergenic_h3k4me3_around_h3k27ac_values.mean(axis=1).mean())"
   ]
  },
  {
   "cell_type": "code",
   "execution_count": 63,
   "metadata": {},
   "outputs": [],
   "source": [
    "# Set threshold for h3k4me3 regions\n",
    "h3m4ke3_intron_threshold_k27 = 0\n",
    "h3m4ke3_intergenic_threshold_k27 = 0.372\n",
    "# Compute the 'filter' masks\n",
    "h3m4ke3_intron_mask_k27 = (intron_h3k4me3_around_h3k27ac_values.mean(axis=1).values >=\n",
    "                          h3m4ke3_intron_threshold_k27)\n",
    "h3m4ke3_intergenic_mask_k27 = (intergenic_h3k4me3_around_h3k27ac_values.mean(axis=1).values >=\n",
    "                              h3m4ke3_intergenic_threshold_k27)\n",
    "# Extract all h3k4me3 peaks\n",
    "intron_h3k4me3_k27_chip = intron_k27_chip[h3m4ke3_intron_mask_k27]\n",
    "intergenic_h3k4me3_k27_chip = intergenic_k27_chip[h3m4ke3_intergenic_mask_k27]"
   ]
  },
  {
   "cell_type": "code",
   "execution_count": 64,
   "metadata": {},
   "outputs": [
    {
     "name": "stdout",
     "output_type": "stream",
     "text": [
      "Number of H3K4me3 peaks\n",
      "-----------------------\n",
      "Intronic: 4995\n",
      "Intergenic: 3967\n"
     ]
    }
   ],
   "source": [
    "print(\"Number of H3K4me3 peaks\\n-----------------------\")\n",
    "print(\"Intronic:\", len(intron_h3k4me3_k27_chip))\n",
    "print(\"Intergenic:\", len(intergenic_h3k4me3_k27_chip))"
   ]
  },
  {
   "cell_type": "markdown",
   "metadata": {},
   "source": [
    "#### Assemble final file"
   ]
  },
  {
   "cell_type": "code",
   "execution_count": 65,
   "metadata": {},
   "outputs": [],
   "source": [
    "# Load externally generated files\n",
    "intron_atac_k27 = pd.read_csv(\"/Users/edwinlock/Desktop/Divya/Thesis/enhancers/intron_unique_h3k27ac_x1atac.bed\",\n",
    "                          sep=\"\\t\",\n",
    "                          header=None,\n",
    "                          skiprows=3)\n",
    "intergenic_atac_k27 = pd.read_csv(\"/Users/edwinlock/Desktop/Divya/Thesis/enhancers/intergenic_unique_h3k27ac_x1atac.bed\",\n",
    "                              sep=\"\\t\",\n",
    "                              header=None,\n",
    "                              skiprows=3)"
   ]
  },
  {
   "cell_type": "code",
   "execution_count": 66,
   "metadata": {},
   "outputs": [],
   "source": [
    "# Compute peak sets from all subsets\n",
    "intron_peakset_k27 = set(intron_k27_chip.iloc[:,3])\n",
    "intergenic_peakset_k27 = set(intergenic_k27_chip.iloc[:,3])\n",
    "\n",
    "intron_accessible_peakset_k27 = set(intron_accessible_k27.iloc[:,3])\n",
    "intergenic_accessible_peakset_k27 = set(intergenic_accessible_k27.iloc[:,3])\n",
    "accessible_peakset_k27 = intron_accessible_peakset_k27.union(intergenic_accessible_peakset_k27)\n",
    "\n",
    "intron_x1_peakset_k27 = set(intron_atac_k27.iloc[:,3])\n",
    "intergenic_x1_peakset_k27 = set(intergenic_atac_k27.iloc[:,3])\n",
    "x1_peakset_k27 = intron_x1_peakset_k27.union(intergenic_x1_peakset_k27)\n",
    "\n",
    "# x1rna_peakset_k27 = set(intron_x1rna_k27.iloc[:,3]).union(set(intergenic_x1rna_k27.iloc[:,3]))\n",
    "x1rna_peakset_k27 = set(intergenic_x1rna_k27.iloc[:,3])\n",
    "\n",
    "h3k4me3_peakset_intron_k27 = set(intron_h3k4me3_k27_chip.iloc[:,3])\n",
    "h3k4me3_peakset_intergenic_k27 = set(intergenic_h3k4me3_k27_chip.iloc[:,3])\n",
    "h3k4me3_peakset_k27 = h3k4me3_peakset_intron_k27.union(h3k4me3_peakset_intergenic_k27)"
   ]
  },
  {
   "cell_type": "code",
   "execution_count": 67,
   "metadata": {
    "scrolled": true
   },
   "outputs": [
    {
     "name": "stdout",
     "output_type": "stream",
     "text": [
      "Peakset sizes:\n",
      "--------------\n",
      "Intronic: 12005\n",
      "Intergenic: 19925\n",
      "Accessible: 16163\n",
      "X1ATAC: 899\n",
      "X1RNA: 2074\n",
      "H3K4me3: 8962\n"
     ]
    }
   ],
   "source": [
    "print(\"Peakset sizes:\\n--------------\")\n",
    "print(\"Intronic:\", len(intron_peakset_k27))\n",
    "print(\"Intergenic:\", len(intergenic_peakset_k27))\n",
    "print(\"Accessible:\", len(accessible_peakset_k27))\n",
    "print(\"X1ATAC:\", len(x1_peakset_k27))\n",
    "print(\"X1RNA:\", len(x1rna_peakset_k27))\n",
    "print(\"H3K4me3:\", len(h3k4me3_peakset_k27))\n"
   ]
  },
  {
   "cell_type": "code",
   "execution_count": 68,
   "metadata": {},
   "outputs": [],
   "source": [
    "d_k27 = {}\n",
    "\n",
    "# OPTIONAL:\n",
    "# d_k27['Intronic region'] = len(intron_peakset)\n",
    "# d_k27['Intergenic region'] = len(intergenic_peakset)\n",
    "# d_k27['Accessible region'] = len(accessible_peakset)\n",
    "# d_k27['ATAC peak'] = len(x1_peakset)\n",
    "# d_k27['RNA transcript'] = len(x1rna_peakset)\n",
    "# d_k27['H3K4me3'] = len(h3k4me3_peakset)\n",
    "\n",
    "d_k27['Intronic region&ATAC peak'] = len(intron_peakset_k27.intersection(x1_peakset_k27))  # or should this be intron_x1_peakset???\n",
    "d_k27['Intergenic region&ATAC peak'] = len(intergenic_peakset_k27.intersection(x1_peakset_k27))\n",
    "\n",
    "d_k27['Intronic region&H3K4me3'] = len(intron_peakset_k27.intersection(h3k4me3_peakset_k27))\n",
    "d_k27['Intergenic region&H3K4me3'] = len(intergenic_peakset_k27.intersection(h3k4me3_peakset_k27))\n",
    "\n",
    "d_k27['Intergenic region&ATAC peak&RNA transcript'] = len(intergenic_peakset_k27.intersection(x1_peakset_k27, x1rna_peakset_k27))\n",
    "\n",
    "d_k27['Intronic region&Accessible region'] = len(intron_peakset_k27.intersection(accessible_peakset_k27))\n",
    "d_k27['Intergenic region&Accessible region'] = len(intergenic_peakset_k27.intersection(accessible_peakset_k27))\n",
    "\n",
    "d_k27['Intergenic region&ATAC peak&RNA transcript&H3K4me3'] = len(intergenic_peakset_k27.intersection(x1_peakset_k27,\n",
    "                                                                           x1rna_peakset_k27,\n",
    "                                                                           h3k4me3_peakset_k27))\n",
    "\n",
    "d_k27['Intronic region&Accessible region&H3K4me3'] = len(intron_peakset_k27.intersection(accessible_peakset_k27,\n",
    "                                                                   h3k4me3_peakset_k27))\n",
    "d_k27['Intergenic region&Accessible region&H3K4me3'] = len(intergenic_peakset_k27.intersection(accessible_peakset_k27,\n",
    "                                                                         h3k4me3_peakset_k27))\n",
    "\n",
    "d_k27['Intronic region&ATAC peak&H3K4me3'] = len(intron_peakset_k27.intersection(x1_peakset_k27,\n",
    "                                                               h3k4me3_peakset_k27))\n",
    "d_k27['Intergenic region&ATAC peak&H3K4me3'] = len(intergenic_peakset_k27.intersection(x1_peakset_k27,\n",
    "                                                                     h3k4me3_peakset_k27))\n",
    "\n",
    "d_k27['Intergenic region&RNA transcript'] = len(intergenic_peakset_k27.intersection(x1rna_peakset_k27))\n",
    "\n",
    "d_k27['Intergenic region&Accessible region&RNA transcript'] = len(intergenic_peakset_k27.intersection(accessible_peakset_k27, x1rna_peakset_k27))\n"
   ]
  },
  {
   "cell_type": "code",
   "execution_count": 69,
   "metadata": {},
   "outputs": [],
   "source": [
    "sets_k27 = [\"Intronic region\", \"Intergenic region\", \"Accessible region\", \"ATAC peak\", \"RNA transcript\", \"H3K4me3\"]"
   ]
  },
  {
   "cell_type": "code",
   "execution_count": 70,
   "metadata": {},
   "outputs": [
    {
     "name": "stdout",
     "output_type": "stream",
     "text": [
      "library(UpSetR)\n",
      "expressionInput <- c(\n",
      "`Intronic region&ATAC peak` = 257,\n",
      "`Intergenic region&ATAC peak` = 642,\n",
      "`Intronic region&H3K4me3` = 4995,\n",
      "`Intergenic region&H3K4me3` = 3967,\n",
      "`Intergenic region&ATAC peak&RNA transcript` = 94,\n",
      "`Intronic region&Accessible region` = 5153,\n",
      "`Intergenic region&Accessible region` = 11010,\n",
      "`Intergenic region&ATAC peak&RNA transcript&H3K4me3` = 72,\n",
      "`Intronic region&Accessible region&H3K4me3` = 2394,\n",
      "`Intergenic region&Accessible region&H3K4me3` = 2599,\n",
      "`Intronic region&ATAC peak&H3K4me3` = 104,\n",
      "`Intergenic region&ATAC peak&H3K4me3` = 143,\n",
      "`Intergenic region&RNA transcript` = 2074,\n",
      "`Intergenic region&Accessible region&RNA transcript` = 1497)\n",
      "data <- fromExpression(expressionInput)\n",
      "sets <- c('Intronic region', 'Intergenic region', 'Accessible region', 'ATAC peak', 'RNA transcript', 'H3K4me3')\n",
      "pdf(file=\"unique_h3k27ac.pdf\")\n",
      "upset(data, sets=sets,\n",
      " order.by=c(\"degree\", \"freq\"),\n",
      " main.bar.color=\"red4\",\n",
      " matrix.color=\"red4\",\n",
      " text.scale=1.3)\n",
      "dev.off()\n",
      "\n"
     ]
    }
   ],
   "source": [
    "print(upSetR_cmd(d_k27, sets_k27, \"unique_h3k27ac.pdf\", colour=\"red4\"))"
   ]
  },
  {
   "cell_type": "code",
   "execution_count": null,
   "metadata": {},
   "outputs": [],
   "source": []
  },
  {
   "cell_type": "markdown",
   "metadata": {},
   "source": [
    "## Generate output file"
   ]
  },
  {
   "cell_type": "code",
   "execution_count": 71,
   "metadata": {},
   "outputs": [],
   "source": [
    "k27_output_df = pd.read_csv(\"~/Desktop/Divya/Thesis/enhancers/enhancer_annotation_h3k27ac.csv\")\n",
    "k27_output_df['Type'] = 'k27ac'\n",
    "k27_output_df['Region'] = None\n",
    "k27_output_df['ATAC peak'] = 0\n",
    "k27_output_df['RNA transcript'] = 0\n",
    "k27_output_df['H3K4me3'] = 0\n",
    "k27_output_df['Accessible region'] = 0\n",
    "\n",
    "for i in range(len(k27_output_df)):\n",
    "    peakname = k27_output_df.iloc[i,5]\n",
    "    if peakname in intron_peakset_k27: k27_output_df.iloc[i,17] = \"Intronic\"\n",
    "    if peakname in intergenic_peakset_k27: k27_output_df.iloc[i,17] = \"Intergenic\"\n",
    "    if peakname in x1_peakset_k27: k27_output_df.iloc[i,18] = 1\n",
    "    if peakname in x1rna_peakset_k27: k27_output_df.iloc[i,19] = 1\n",
    "    if peakname in h3k4me3_peakset_k27: k27_output_df.iloc[i,20] = 1\n",
    "    if peakname in accessible_peakset_k27: k27_output_df.iloc[i,21] = 1"
   ]
  },
  {
   "cell_type": "code",
   "execution_count": 72,
   "metadata": {},
   "outputs": [],
   "source": [
    "k27_output_df.to_csv(\"~/Desktop/Divya/Thesis/enhancers/enhancer_h3k27ac_annotated.csv\")"
   ]
  },
  {
   "cell_type": "markdown",
   "metadata": {},
   "source": [
    "## Add FACS annotation"
   ]
  },
  {
   "cell_type": "code",
   "execution_count": 73,
   "metadata": {},
   "outputs": [],
   "source": [
    "merged_output = pd.concat([output_df, k4_output_df, k27_output_df], sort=False)"
   ]
  },
  {
   "cell_type": "code",
   "execution_count": 74,
   "metadata": {},
   "outputs": [],
   "source": [
    "merged_output.to_csv(\"~/Desktop/Divya/Thesis/enhancers/enhancer_annotated_table.csv\")"
   ]
  },
  {
   "cell_type": "code",
   "execution_count": 75,
   "metadata": {},
   "outputs": [],
   "source": [
    "output_df_FACS = merged_output.copy()"
   ]
  },
  {
   "cell_type": "code",
   "execution_count": 76,
   "metadata": {},
   "outputs": [],
   "source": [
    "output_df_FACS[\"X1.prop\"] = 0\n",
    "output_df_FACS[\"X1\"] = 0"
   ]
  },
  {
   "cell_type": "code",
   "execution_count": 77,
   "metadata": {},
   "outputs": [
    {
     "data": {
      "text/html": [
       "<div>\n",
       "<style scoped>\n",
       "    .dataframe tbody tr th:only-of-type {\n",
       "        vertical-align: middle;\n",
       "    }\n",
       "\n",
       "    .dataframe tbody tr th {\n",
       "        vertical-align: top;\n",
       "    }\n",
       "\n",
       "    .dataframe thead th {\n",
       "        text-align: right;\n",
       "    }\n",
       "</style>\n",
       "<table border=\"1\" class=\"dataframe\">\n",
       "  <thead>\n",
       "    <tr style=\"text-align: right;\">\n",
       "      <th></th>\n",
       "      <th>gene</th>\n",
       "      <th>X1</th>\n",
       "      <th>X2</th>\n",
       "      <th>Xins</th>\n",
       "      <th>total</th>\n",
       "      <th>X1.prop</th>\n",
       "      <th>X2.prop</th>\n",
       "      <th>Xins.prop</th>\n",
       "      <th>Rink.ID</th>\n",
       "    </tr>\n",
       "  </thead>\n",
       "  <tbody>\n",
       "    <tr>\n",
       "      <th>0</th>\n",
       "      <td>MSTRG.1</td>\n",
       "      <td>36.191056</td>\n",
       "      <td>25.270065</td>\n",
       "      <td>54.627823</td>\n",
       "      <td>116.088943</td>\n",
       "      <td>0.311753</td>\n",
       "      <td>0.217678</td>\n",
       "      <td>0.470569</td>\n",
       "      <td>SMESG000026673.1</td>\n",
       "    </tr>\n",
       "    <tr>\n",
       "      <th>1</th>\n",
       "      <td>MSTRG.10</td>\n",
       "      <td>1.213314</td>\n",
       "      <td>1.256480</td>\n",
       "      <td>0.385004</td>\n",
       "      <td>2.854797</td>\n",
       "      <td>0.425009</td>\n",
       "      <td>0.440129</td>\n",
       "      <td>0.134862</td>\n",
       "      <td>MSTRG.10</td>\n",
       "    </tr>\n",
       "    <tr>\n",
       "      <th>2</th>\n",
       "      <td>MSTRG.100</td>\n",
       "      <td>13.166939</td>\n",
       "      <td>22.418585</td>\n",
       "      <td>39.262879</td>\n",
       "      <td>74.848402</td>\n",
       "      <td>0.175915</td>\n",
       "      <td>0.299520</td>\n",
       "      <td>0.524565</td>\n",
       "      <td>SMESG000026500.1</td>\n",
       "    </tr>\n",
       "    <tr>\n",
       "      <th>3</th>\n",
       "      <td>MSTRG.1000</td>\n",
       "      <td>11.094835</td>\n",
       "      <td>6.709955</td>\n",
       "      <td>6.726305</td>\n",
       "      <td>24.531095</td>\n",
       "      <td>0.452276</td>\n",
       "      <td>0.273529</td>\n",
       "      <td>0.274195</td>\n",
       "      <td>SMESG000000245.1</td>\n",
       "    </tr>\n",
       "    <tr>\n",
       "      <th>4</th>\n",
       "      <td>MSTRG.10000</td>\n",
       "      <td>18.631952</td>\n",
       "      <td>49.453499</td>\n",
       "      <td>49.371953</td>\n",
       "      <td>117.457403</td>\n",
       "      <td>0.158627</td>\n",
       "      <td>0.421033</td>\n",
       "      <td>0.420339</td>\n",
       "      <td>SMESG000030021.1</td>\n",
       "    </tr>\n",
       "    <tr>\n",
       "      <th>...</th>\n",
       "      <td>...</td>\n",
       "      <td>...</td>\n",
       "      <td>...</td>\n",
       "      <td>...</td>\n",
       "      <td>...</td>\n",
       "      <td>...</td>\n",
       "      <td>...</td>\n",
       "      <td>...</td>\n",
       "      <td>...</td>\n",
       "    </tr>\n",
       "    <tr>\n",
       "      <th>27998</th>\n",
       "      <td>SMESG000081816.1</td>\n",
       "      <td>0.060211</td>\n",
       "      <td>0.128577</td>\n",
       "      <td>0.078985</td>\n",
       "      <td>0.267773</td>\n",
       "      <td>0.224859</td>\n",
       "      <td>0.480171</td>\n",
       "      <td>0.294970</td>\n",
       "      <td>SMESG000081816.1</td>\n",
       "    </tr>\n",
       "    <tr>\n",
       "      <th>27999</th>\n",
       "      <td>SMESG000081849.1</td>\n",
       "      <td>0.100407</td>\n",
       "      <td>0.144069</td>\n",
       "      <td>0.000000</td>\n",
       "      <td>0.244476</td>\n",
       "      <td>0.410704</td>\n",
       "      <td>0.589296</td>\n",
       "      <td>0.000000</td>\n",
       "      <td>SMESG000081849.1</td>\n",
       "    </tr>\n",
       "    <tr>\n",
       "      <th>28000</th>\n",
       "      <td>SMESG000081971.1</td>\n",
       "      <td>0.018778</td>\n",
       "      <td>0.057717</td>\n",
       "      <td>0.022917</td>\n",
       "      <td>0.099412</td>\n",
       "      <td>0.188893</td>\n",
       "      <td>0.580580</td>\n",
       "      <td>0.230527</td>\n",
       "      <td>SMESG000081971.1</td>\n",
       "    </tr>\n",
       "    <tr>\n",
       "      <th>28001</th>\n",
       "      <td>SMESG000081986.1</td>\n",
       "      <td>0.216758</td>\n",
       "      <td>0.360742</td>\n",
       "      <td>0.352566</td>\n",
       "      <td>0.930067</td>\n",
       "      <td>0.233057</td>\n",
       "      <td>0.387867</td>\n",
       "      <td>0.379076</td>\n",
       "      <td>SMESG000081986.1</td>\n",
       "    </tr>\n",
       "    <tr>\n",
       "      <th>28002</th>\n",
       "      <td>SMESG000081995.1</td>\n",
       "      <td>0.137141</td>\n",
       "      <td>0.189168</td>\n",
       "      <td>0.094257</td>\n",
       "      <td>0.420566</td>\n",
       "      <td>0.326086</td>\n",
       "      <td>0.449794</td>\n",
       "      <td>0.224120</td>\n",
       "      <td>SMESG000081995.1</td>\n",
       "    </tr>\n",
       "  </tbody>\n",
       "</table>\n",
       "<p>28003 rows × 9 columns</p>\n",
       "</div>"
      ],
      "text/plain": [
       "                   gene         X1         X2       Xins       total  \\\n",
       "0               MSTRG.1  36.191056  25.270065  54.627823  116.088943   \n",
       "1              MSTRG.10   1.213314   1.256480   0.385004    2.854797   \n",
       "2             MSTRG.100  13.166939  22.418585  39.262879   74.848402   \n",
       "3            MSTRG.1000  11.094835   6.709955   6.726305   24.531095   \n",
       "4           MSTRG.10000  18.631952  49.453499  49.371953  117.457403   \n",
       "...                 ...        ...        ...        ...         ...   \n",
       "27998  SMESG000081816.1   0.060211   0.128577   0.078985    0.267773   \n",
       "27999  SMESG000081849.1   0.100407   0.144069   0.000000    0.244476   \n",
       "28000  SMESG000081971.1   0.018778   0.057717   0.022917    0.099412   \n",
       "28001  SMESG000081986.1   0.216758   0.360742   0.352566    0.930067   \n",
       "28002  SMESG000081995.1   0.137141   0.189168   0.094257    0.420566   \n",
       "\n",
       "        X1.prop   X2.prop  Xins.prop           Rink.ID  \n",
       "0      0.311753  0.217678   0.470569  SMESG000026673.1  \n",
       "1      0.425009  0.440129   0.134862          MSTRG.10  \n",
       "2      0.175915  0.299520   0.524565  SMESG000026500.1  \n",
       "3      0.452276  0.273529   0.274195  SMESG000000245.1  \n",
       "4      0.158627  0.421033   0.420339  SMESG000030021.1  \n",
       "...         ...       ...        ...               ...  \n",
       "27998  0.224859  0.480171   0.294970  SMESG000081816.1  \n",
       "27999  0.410704  0.589296   0.000000  SMESG000081849.1  \n",
       "28000  0.188893  0.580580   0.230527  SMESG000081971.1  \n",
       "28001  0.233057  0.387867   0.379076  SMESG000081986.1  \n",
       "28002  0.326086  0.449794   0.224120  SMESG000081995.1  \n",
       "\n",
       "[28003 rows x 9 columns]"
      ]
     },
     "execution_count": 77,
     "metadata": {},
     "output_type": "execute_result"
    }
   ],
   "source": [
    "FACS_prop = pd.read_csv(\"/Users/edwinlock/Desktop/Divya/Thesis/enhancers/FACS_prop.csv\")\n",
    "FACS_prop"
   ]
  },
  {
   "cell_type": "code",
   "execution_count": 78,
   "metadata": {},
   "outputs": [
    {
     "data": {
      "text/plain": [
       "seqnames                       dd_Smes_g4_1\n",
       "start                                780974\n",
       "end                                  780974\n",
       "width                                     1\n",
       "strand                                    *\n",
       "V4                   k4me1_pooled_1_peak_15\n",
       "V5                                       33\n",
       "V6                                        .\n",
       "V7                                  2.75169\n",
       "V8                                  6.38865\n",
       "V9                                  3.32508\n",
       "annotation                Distal Intergenic\n",
       "geneChr                                   1\n",
       "geneStart                            801361\n",
       "geneEnd                              840553\n",
       "geneLength                            39193\n",
       "geneStrand                                1\n",
       "geneId                     SMESG000027261.1\n",
       "transcriptId               SMEST027261001.1\n",
       "distanceToTSS                        -20387\n",
       "Type                                   chip\n",
       "Region                           Intergenic\n",
       "ATAC peak                                 0\n",
       "RNA transcript                            1\n",
       "H3K4me3                                   0\n",
       "Accessible region                         1\n",
       "X1.prop                                   0\n",
       "X1                                        0\n",
       "Name: 1, dtype: object"
      ]
     },
     "execution_count": 78,
     "metadata": {},
     "output_type": "execute_result"
    }
   ],
   "source": [
    "output_df_FACS.iloc[1]"
   ]
  },
  {
   "cell_type": "code",
   "execution_count": 79,
   "metadata": {},
   "outputs": [],
   "source": [
    "for i in range(len(output_df_FACS)):\n",
    "    df = FACS_prop[FACS_prop[\"gene\"] == output_df_FACS.iloc[i][\"geneId\"]]\n",
    "    if len(df) > 0:\n",
    "        output_df_FACS.iloc[i, 26] = df.iloc[0,5]\n",
    "        output_df_FACS.iloc[i, 27] = df.iloc[0,1]\n",
    "# output_df_FACS"
   ]
  },
  {
   "cell_type": "code",
   "execution_count": 80,
   "metadata": {},
   "outputs": [],
   "source": [
    "output_df_FACS.to_csv(\"/Users/edwinlock/Desktop/Divya/Thesis/enhancers/enhancer_annotation_FACS.csv\", index=False)"
   ]
  },
  {
   "cell_type": "markdown",
   "metadata": {},
   "source": [
    "## Commands for plotting figures\n",
    "\n",
    "Copy and paste these commands into R."
   ]
  },
  {
   "cell_type": "code",
   "execution_count": 81,
   "metadata": {},
   "outputs": [
    {
     "name": "stdout",
     "output_type": "stream",
     "text": [
      "library(UpSetR)\n",
      "expressionInput <- c(\n",
      "`Intronic region&ATAC peak` = 54,\n",
      "`Intergenic region&ATAC peak` = 121,\n",
      "`Intronic region&H3K4me3` = 350,\n",
      "`Intergenic region&H3K4me3` = 1074,\n",
      "`Intergenic region&ATAC peak&RNA transcript` = 118,\n",
      "`Intronic region&Accessible region` = 1085,\n",
      "`Intergenic region&Accessible region` = 1605,\n",
      "`Intergenic region&ATAC peak&RNA transcript&H3K4me3` = 66,\n",
      "`Intronic region&Accessible region&H3K4me3` = 281,\n",
      "`Intergenic region&Accessible region&H3K4me3` = 867,\n",
      "`Intronic region&ATAC peak&H3K4me3` = 12,\n",
      "`Intergenic region&ATAC peak&H3K4me3` = 67,\n",
      "`Intergenic region&RNA transcript` = 2126,\n",
      "`Intergenic region&Accessible region&RNA transcript` = 1505)\n",
      "data <- fromExpression(expressionInput)\n",
      "sets <- c('Intronic region', 'Intergenic region', 'Accessible region', 'ATAC peak', 'RNA transcript', 'H3K4me3')\n",
      "pdf(file=\"dualsummits.pdf\")\n",
      "upset(data, sets=sets,\n",
      " order.by=c(\"degree\", \"freq\"),\n",
      " main.bar.color=\"gray23\",\n",
      " matrix.color=\"gray23\",\n",
      " text.scale=1.3)\n",
      "dev.off()\n",
      "\n"
     ]
    }
   ],
   "source": [
    "print(upSetR_cmd(d, sets, \"dualsummits.pdf\"))"
   ]
  },
  {
   "cell_type": "code",
   "execution_count": 82,
   "metadata": {
    "scrolled": true
   },
   "outputs": [
    {
     "name": "stdout",
     "output_type": "stream",
     "text": [
      "library(UpSetR)\n",
      "expressionInput <- c(\n",
      "`Intronic region&ATAC peak` = 118,\n",
      "`Intergenic region&ATAC peak` = 207,\n",
      "`Intronic region&H3K4me3` = 1054,\n",
      "`Intergenic region&H3K4me3` = 1618,\n",
      "`Intergenic region&ATAC peak&RNA transcript` = 197,\n",
      "`Intronic region&Accessible region` = 2279,\n",
      "`Intergenic region&Accessible region` = 2649,\n",
      "`Intergenic region&ATAC peak&RNA transcript&H3K4me3` = 53,\n",
      "`Intronic region&Accessible region&H3K4me3` = 704,\n",
      "`Intergenic region&Accessible region&H3K4me3` = 1152,\n",
      "`Intronic region&ATAC peak&H3K4me3` = 33,\n",
      "`Intergenic region&ATAC peak&H3K4me3` = 54,\n",
      "`Intergenic region&RNA transcript` = 3800,\n",
      "`Intergenic region&Accessible region&RNA transcript` = 2561)\n",
      "data <- fromExpression(expressionInput)\n",
      "sets <- c('Intronic region', 'Intergenic region', 'Accessible region', 'ATAC peak', 'RNA transcript', 'H3K4me3')\n",
      "pdf(file=\"unique_h3k4me1.pdf\")\n",
      "upset(data, sets=sets,\n",
      " order.by=c(\"degree\", \"freq\"),\n",
      " main.bar.color=\"slateblue4\",\n",
      " matrix.color=\"slateblue4\",\n",
      " text.scale=1.3)\n",
      "dev.off()\n",
      "\n"
     ]
    }
   ],
   "source": [
    "print(upSetR_cmd(d_k4, sets_k4, \"unique_h3k4me1.pdf\", colour=\"slateblue4\"))"
   ]
  },
  {
   "cell_type": "code",
   "execution_count": 83,
   "metadata": {},
   "outputs": [
    {
     "name": "stdout",
     "output_type": "stream",
     "text": [
      "library(UpSetR)\n",
      "expressionInput <- c(\n",
      "`Intronic region&ATAC peak` = 257,\n",
      "`Intergenic region&ATAC peak` = 642,\n",
      "`Intronic region&H3K4me3` = 4995,\n",
      "`Intergenic region&H3K4me3` = 3967,\n",
      "`Intergenic region&ATAC peak&RNA transcript` = 94,\n",
      "`Intronic region&Accessible region` = 5153,\n",
      "`Intergenic region&Accessible region` = 11010,\n",
      "`Intergenic region&ATAC peak&RNA transcript&H3K4me3` = 72,\n",
      "`Intronic region&Accessible region&H3K4me3` = 2394,\n",
      "`Intergenic region&Accessible region&H3K4me3` = 2599,\n",
      "`Intronic region&ATAC peak&H3K4me3` = 104,\n",
      "`Intergenic region&ATAC peak&H3K4me3` = 143,\n",
      "`Intergenic region&RNA transcript` = 2074,\n",
      "`Intergenic region&Accessible region&RNA transcript` = 1497)\n",
      "data <- fromExpression(expressionInput)\n",
      "sets <- c('Intronic region', 'Intergenic region', 'Accessible region', 'ATAC peak', 'RNA transcript', 'H3K4me3')\n",
      "pdf(file=\"unique_h3k27ac.pdf\")\n",
      "upset(data, sets=sets,\n",
      " order.by=c(\"degree\", \"freq\"),\n",
      " main.bar.color=\"red4\",\n",
      " matrix.color=\"red4\",\n",
      " text.scale=1.3)\n",
      "dev.off()\n",
      "\n"
     ]
    }
   ],
   "source": [
    "print(upSetR_cmd(d_k27, sets_k27, \"unique_h3k27ac.pdf\", colour=\"red4\"))"
   ]
  },
  {
   "cell_type": "code",
   "execution_count": null,
   "metadata": {},
   "outputs": [],
   "source": []
  }
 ],
 "metadata": {
  "kernelspec": {
   "display_name": "Python 3",
   "language": "python",
   "name": "python3"
  },
  "language_info": {
   "codemirror_mode": {
    "name": "ipython",
    "version": 3
   },
   "file_extension": ".py",
   "mimetype": "text/x-python",
   "name": "python",
   "nbconvert_exporter": "python",
   "pygments_lexer": "ipython3",
   "version": "3.7.9"
  }
 },
 "nbformat": 4,
 "nbformat_minor": 4
}

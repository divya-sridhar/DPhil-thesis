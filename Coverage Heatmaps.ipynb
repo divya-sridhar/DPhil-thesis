{
 "cells": [
  {
   "cell_type": "markdown",
   "metadata": {},
   "source": [
    "# Generating Coverage Heatmaps"
   ]
  },
  {
   "cell_type": "markdown",
   "metadata": {},
   "source": [
    "Preliminaries:"
   ]
  },
  {
   "cell_type": "code",
   "execution_count": 1,
   "metadata": {},
   "outputs": [],
   "source": [
    "path = \"/Users/edwinlock/Desktop/Divya/Thesis/annotation\""
   ]
  },
  {
   "cell_type": "markdown",
   "metadata": {},
   "source": [
    "## ATAC Peak Heatmaps"
   ]
  },
  {
   "cell_type": "markdown",
   "metadata": {},
   "source": [
    "First we generate the matrix using the **computeMatrix** command. Note: the following script generates the matrices for all cell types if and only if they don't already exist!\n",
    "\n",
    "Docs: https://deeptools.readthedocs.io/en/develop/content/tools/computeMatrix.html\n",
    "\n",
    "Important files and parameters:\n",
    "--regionsFileName\n",
    "\n",
    "File name or names, in BED or GTF format, containing the regions to plot. If multiple bed files are given, each one is considered a group that can be plotted separately. \n",
    "\n",
    "--scoreFileName\n",
    "\n",
    "bigWig file(s) containing the scores to be plotted. Multiple files should be separated by spaces. BigWig files can be obtained by using the bamCoverage or bamCompare tools. \n",
    "\n",
    "--afterRegionStartLength, -a\n",
    "\n",
    "Distance downstream of the end site of the given regions. If the regions are genes, this would be the distance downstream of the transcription end site. (Default: 0)\n",
    "\n",
    "--beforeRegionStartLength, -b\n",
    "\n",
    "Distance upstream of the start site of the regions defined in the region file. If the regions are genes, this would be the distance upstream of the transcription start site. (Default: 0)\n"
   ]
  },
  {
   "cell_type": "markdown",
   "metadata": {},
   "source": [
    "**NB:** We assume that all files lie in the $path and are named \\<cell_type\\>_atac.bed and \\<cell_type\\>_coverage.bw."
   ]
  },
  {
   "cell_type": "code",
   "execution_count": 2,
   "metadata": {},
   "outputs": [
    {
     "name": "stdout",
     "output_type": "stream",
     "text": [
      "Process is terminated.\n"
     ]
    }
   ],
   "source": [
    "%%bash -s \"$path\"\n",
    "cd $1\n",
    "for CELL in x1 x2 xins\n",
    "do\n",
    "    if [ ! -f \"$CELL\"_atac_peak_matrix.tab.gz ]; then\n",
    "        computeMatrix reference-point \\\n",
    "        --regionsFileName \"$CELL\"_atac.bed \\\n",
    "        --scoreFileName \"$CELL\"_coverage.bw \\\n",
    "        --afterRegionStartLength 2500 \\\n",
    "        --beforeRegionStartLength 2500 \\\n",
    "        -p 24 \\\n",
    "        -o \"$CELL\"_atac_peak_matrix.tab.gz\n",
    "    fi;\n",
    "done"
   ]
  },
  {
   "cell_type": "markdown",
   "metadata": {},
   "source": [
    "Now we plot the heatmap using the deeptools **plotHeatmap** command.\n",
    "\n",
    "Docs: https://deeptools.readthedocs.io/en/develop/content/tools/plotHeatmap.html"
   ]
  },
  {
   "cell_type": "code",
   "execution_count": 3,
   "metadata": {},
   "outputs": [],
   "source": [
    "%%bash\n",
    "cd ~/Desktop/Divya/Thesis/annotation/\n",
    "for CELL in x1 x2 xins\n",
    "do\n",
    "    if [ -f \"$CELL\"_atac_peak_matrix.tab.gz ]; then\n",
    "        TITLE=\"${CELL^} ATAC peaks\"\n",
    "        plotHeatmap -m \"$CELL\"_atac_peak_matrix.tab.gz \\\n",
    "        --plotType se \\\n",
    "        --heatmapHeight 28 \\\n",
    "        --heatmapWidth 5 \\\n",
    "        --samplesLabel \"$TITLE\" \\\n",
    "        --xAxisLabel \"Distance (bp)\" \\\n",
    "        --yAxisLabel \"RPKM\" \\\n",
    "        --legendLocation none \\\n",
    "        --whatToShow \"plot, heatmap and colorbar\" \\\n",
    "        --colorMap viridis \\\n",
    "        --missingDataColor 0 \\\n",
    "        --refPointLabel Peak \\\n",
    "        -o \"$CELL\"_atac_peaks.pdf\n",
    "    fi;\n",
    "done"
   ]
  },
  {
   "cell_type": "markdown",
   "metadata": {},
   "source": [
    "## ATAC TSS Heatmaps"
   ]
  },
  {
   "cell_type": "markdown",
   "metadata": {},
   "source": [
    "Compute the matrix and plot the heatmaps as above."
   ]
  },
  {
   "cell_type": "code",
   "execution_count": 4,
   "metadata": {},
   "outputs": [
    {
     "name": "stderr",
     "output_type": "stream",
     "text": [
      "Traceback (most recent call last):\n",
      "  File \"/Library/Frameworks/Python.framework/Versions/3.7/bin/computeMatrix\", line 14, in <module>\n",
      "    main(args)\n",
      "  File \"/Library/Frameworks/Python.framework/Versions/3.7/lib/python3.7/site-packages/deeptools/computeMatrix.py\", line 421, in main\n",
      "    hm.computeMatrix(scores_file_list, args.regionsFileName, parameters, blackListFileName=args.blackListFileName, verbose=args.verbose, allArgs=args)\n",
      "  File \"/Library/Frameworks/Python.framework/Versions/3.7/lib/python3.7/site-packages/deeptools/heatmapper.py\", line 264, in computeMatrix\n",
      "    verbose=verbose)\n",
      "  File \"/Library/Frameworks/Python.framework/Versions/3.7/lib/python3.7/site-packages/deeptools/mapReduce.py\", line 85, in mapReduce\n",
      "    bed_interval_tree = GTF(bedFile, defaultGroup=defaultGroup, transcriptID=transcriptID, exonID=exonID, transcript_id_designator=transcript_id_designator, keepExons=keepExons)\n",
      "  File \"/Library/Frameworks/Python.framework/Versions/3.7/lib/python3.7/site-packages/deeptoolsintervals/parse.py\", line 584, in __init__\n",
      "    fp = openPossiblyCompressed(fname)\n",
      "  File \"/Library/Frameworks/Python.framework/Versions/3.7/lib/python3.7/site-packages/deeptoolsintervals/parse.py\", line 102, in openPossiblyCompressed\n",
      "    with open(fname, \"rb\") as f:\n",
      "FileNotFoundError: [Errno 2] No such file or directory: 'TSS.bed'\n",
      "Traceback (most recent call last):\n",
      "  File \"/Library/Frameworks/Python.framework/Versions/3.7/bin/computeMatrix\", line 14, in <module>\n",
      "    main(args)\n",
      "  File \"/Library/Frameworks/Python.framework/Versions/3.7/lib/python3.7/site-packages/deeptools/computeMatrix.py\", line 421, in main\n",
      "    hm.computeMatrix(scores_file_list, args.regionsFileName, parameters, blackListFileName=args.blackListFileName, verbose=args.verbose, allArgs=args)\n",
      "  File \"/Library/Frameworks/Python.framework/Versions/3.7/lib/python3.7/site-packages/deeptools/heatmapper.py\", line 264, in computeMatrix\n",
      "    verbose=verbose)\n",
      "  File \"/Library/Frameworks/Python.framework/Versions/3.7/lib/python3.7/site-packages/deeptools/mapReduce.py\", line 85, in mapReduce\n",
      "    bed_interval_tree = GTF(bedFile, defaultGroup=defaultGroup, transcriptID=transcriptID, exonID=exonID, transcript_id_designator=transcript_id_designator, keepExons=keepExons)\n",
      "  File \"/Library/Frameworks/Python.framework/Versions/3.7/lib/python3.7/site-packages/deeptoolsintervals/parse.py\", line 584, in __init__\n",
      "    fp = openPossiblyCompressed(fname)\n",
      "  File \"/Library/Frameworks/Python.framework/Versions/3.7/lib/python3.7/site-packages/deeptoolsintervals/parse.py\", line 102, in openPossiblyCompressed\n",
      "    with open(fname, \"rb\") as f:\n",
      "FileNotFoundError: [Errno 2] No such file or directory: 'TSS.bed'\n",
      "Traceback (most recent call last):\n",
      "  File \"/Library/Frameworks/Python.framework/Versions/3.7/bin/computeMatrix\", line 14, in <module>\n",
      "    main(args)\n",
      "  File \"/Library/Frameworks/Python.framework/Versions/3.7/lib/python3.7/site-packages/deeptools/computeMatrix.py\", line 421, in main\n",
      "    hm.computeMatrix(scores_file_list, args.regionsFileName, parameters, blackListFileName=args.blackListFileName, verbose=args.verbose, allArgs=args)\n",
      "  File \"/Library/Frameworks/Python.framework/Versions/3.7/lib/python3.7/site-packages/deeptools/heatmapper.py\", line 264, in computeMatrix\n",
      "    verbose=verbose)\n",
      "  File \"/Library/Frameworks/Python.framework/Versions/3.7/lib/python3.7/site-packages/deeptools/mapReduce.py\", line 85, in mapReduce\n",
      "    bed_interval_tree = GTF(bedFile, defaultGroup=defaultGroup, transcriptID=transcriptID, exonID=exonID, transcript_id_designator=transcript_id_designator, keepExons=keepExons)\n",
      "  File \"/Library/Frameworks/Python.framework/Versions/3.7/lib/python3.7/site-packages/deeptoolsintervals/parse.py\", line 584, in __init__\n",
      "    fp = openPossiblyCompressed(fname)\n",
      "  File \"/Library/Frameworks/Python.framework/Versions/3.7/lib/python3.7/site-packages/deeptoolsintervals/parse.py\", line 102, in openPossiblyCompressed\n",
      "    with open(fname, \"rb\") as f:\n",
      "FileNotFoundError: [Errno 2] No such file or directory: 'TSS.bed'\n"
     ]
    },
    {
     "ename": "CalledProcessError",
     "evalue": "Command 'b'cd ~/Desktop/Divya/Thesis/annotation/\\nfor CELL in x1 x2 xins\\ndo\\n    if [ ! -f \"$CELL\"_atac_tss_matrix.tab.gz ]; then\\n        computeMatrix reference-point \\\\\\n        --regionsFileName TSS.bed \\\\\\n        --scoreFileName \"$CELL\"_coverage.bw \\\\\\n        --afterRegionStartLength 2500 \\\\\\n        --beforeRegionStartLength 2500 \\\\\\n        -p 24 \\\\\\n        -o \"$CELL\"_atac_tss_matrix.tab.gz\\n    fi;\\ndone\\n'' returned non-zero exit status 1.",
     "output_type": "error",
     "traceback": [
      "\u001b[0;31m---------------------------------------------------------------------------\u001b[0m",
      "\u001b[0;31mCalledProcessError\u001b[0m                        Traceback (most recent call last)",
      "\u001b[0;32m<ipython-input-4-bab7651c4bbd>\u001b[0m in \u001b[0;36m<module>\u001b[0;34m\u001b[0m\n\u001b[0;32m----> 1\u001b[0;31m \u001b[0mget_ipython\u001b[0m\u001b[0;34m(\u001b[0m\u001b[0;34m)\u001b[0m\u001b[0;34m.\u001b[0m\u001b[0mrun_cell_magic\u001b[0m\u001b[0;34m(\u001b[0m\u001b[0;34m'bash'\u001b[0m\u001b[0;34m,\u001b[0m \u001b[0;34m''\u001b[0m\u001b[0;34m,\u001b[0m \u001b[0;34m'cd ~/Desktop/Divya/Thesis/annotation/\\nfor CELL in x1 x2 xins\\ndo\\n    if [ ! -f \"$CELL\"_atac_tss_matrix.tab.gz ]; then\\n        computeMatrix reference-point \\\\\\n        --regionsFileName TSS.bed \\\\\\n        --scoreFileName \"$CELL\"_coverage.bw \\\\\\n        --afterRegionStartLength 2500 \\\\\\n        --beforeRegionStartLength 2500 \\\\\\n        -p 24 \\\\\\n        -o \"$CELL\"_atac_tss_matrix.tab.gz\\n    fi;\\ndone\\n'\u001b[0m\u001b[0;34m)\u001b[0m\u001b[0;34m\u001b[0m\u001b[0;34m\u001b[0m\u001b[0m\n\u001b[0m",
      "\u001b[0;32m/Library/Frameworks/Python.framework/Versions/3.7/lib/python3.7/site-packages/IPython/core/interactiveshell.py\u001b[0m in \u001b[0;36mrun_cell_magic\u001b[0;34m(self, magic_name, line, cell)\u001b[0m\n\u001b[1;32m   2380\u001b[0m             \u001b[0;32mwith\u001b[0m \u001b[0mself\u001b[0m\u001b[0;34m.\u001b[0m\u001b[0mbuiltin_trap\u001b[0m\u001b[0;34m:\u001b[0m\u001b[0;34m\u001b[0m\u001b[0;34m\u001b[0m\u001b[0m\n\u001b[1;32m   2381\u001b[0m                 \u001b[0margs\u001b[0m \u001b[0;34m=\u001b[0m \u001b[0;34m(\u001b[0m\u001b[0mmagic_arg_s\u001b[0m\u001b[0;34m,\u001b[0m \u001b[0mcell\u001b[0m\u001b[0;34m)\u001b[0m\u001b[0;34m\u001b[0m\u001b[0;34m\u001b[0m\u001b[0m\n\u001b[0;32m-> 2382\u001b[0;31m                 \u001b[0mresult\u001b[0m \u001b[0;34m=\u001b[0m \u001b[0mfn\u001b[0m\u001b[0;34m(\u001b[0m\u001b[0;34m*\u001b[0m\u001b[0margs\u001b[0m\u001b[0;34m,\u001b[0m \u001b[0;34m**\u001b[0m\u001b[0mkwargs\u001b[0m\u001b[0;34m)\u001b[0m\u001b[0;34m\u001b[0m\u001b[0;34m\u001b[0m\u001b[0m\n\u001b[0m\u001b[1;32m   2383\u001b[0m             \u001b[0;32mreturn\u001b[0m \u001b[0mresult\u001b[0m\u001b[0;34m\u001b[0m\u001b[0;34m\u001b[0m\u001b[0m\n\u001b[1;32m   2384\u001b[0m \u001b[0;34m\u001b[0m\u001b[0m\n",
      "\u001b[0;32m/Library/Frameworks/Python.framework/Versions/3.7/lib/python3.7/site-packages/IPython/core/magics/script.py\u001b[0m in \u001b[0;36mnamed_script_magic\u001b[0;34m(line, cell)\u001b[0m\n\u001b[1;32m    140\u001b[0m             \u001b[0;32melse\u001b[0m\u001b[0;34m:\u001b[0m\u001b[0;34m\u001b[0m\u001b[0;34m\u001b[0m\u001b[0m\n\u001b[1;32m    141\u001b[0m                 \u001b[0mline\u001b[0m \u001b[0;34m=\u001b[0m \u001b[0mscript\u001b[0m\u001b[0;34m\u001b[0m\u001b[0;34m\u001b[0m\u001b[0m\n\u001b[0;32m--> 142\u001b[0;31m             \u001b[0;32mreturn\u001b[0m \u001b[0mself\u001b[0m\u001b[0;34m.\u001b[0m\u001b[0mshebang\u001b[0m\u001b[0;34m(\u001b[0m\u001b[0mline\u001b[0m\u001b[0;34m,\u001b[0m \u001b[0mcell\u001b[0m\u001b[0;34m)\u001b[0m\u001b[0;34m\u001b[0m\u001b[0;34m\u001b[0m\u001b[0m\n\u001b[0m\u001b[1;32m    143\u001b[0m \u001b[0;34m\u001b[0m\u001b[0m\n\u001b[1;32m    144\u001b[0m         \u001b[0;31m# write a basic docstring:\u001b[0m\u001b[0;34m\u001b[0m\u001b[0;34m\u001b[0m\u001b[0;34m\u001b[0m\u001b[0m\n",
      "\u001b[0;32m<decorator-gen-103>\u001b[0m in \u001b[0;36mshebang\u001b[0;34m(self, line, cell)\u001b[0m\n",
      "\u001b[0;32m/Library/Frameworks/Python.framework/Versions/3.7/lib/python3.7/site-packages/IPython/core/magic.py\u001b[0m in \u001b[0;36m<lambda>\u001b[0;34m(f, *a, **k)\u001b[0m\n\u001b[1;32m    185\u001b[0m     \u001b[0;31m# but it's overkill for just that one bit of state.\u001b[0m\u001b[0;34m\u001b[0m\u001b[0;34m\u001b[0m\u001b[0;34m\u001b[0m\u001b[0m\n\u001b[1;32m    186\u001b[0m     \u001b[0;32mdef\u001b[0m \u001b[0mmagic_deco\u001b[0m\u001b[0;34m(\u001b[0m\u001b[0marg\u001b[0m\u001b[0;34m)\u001b[0m\u001b[0;34m:\u001b[0m\u001b[0;34m\u001b[0m\u001b[0;34m\u001b[0m\u001b[0m\n\u001b[0;32m--> 187\u001b[0;31m         \u001b[0mcall\u001b[0m \u001b[0;34m=\u001b[0m \u001b[0;32mlambda\u001b[0m \u001b[0mf\u001b[0m\u001b[0;34m,\u001b[0m \u001b[0;34m*\u001b[0m\u001b[0ma\u001b[0m\u001b[0;34m,\u001b[0m \u001b[0;34m**\u001b[0m\u001b[0mk\u001b[0m\u001b[0;34m:\u001b[0m \u001b[0mf\u001b[0m\u001b[0;34m(\u001b[0m\u001b[0;34m*\u001b[0m\u001b[0ma\u001b[0m\u001b[0;34m,\u001b[0m \u001b[0;34m**\u001b[0m\u001b[0mk\u001b[0m\u001b[0;34m)\u001b[0m\u001b[0;34m\u001b[0m\u001b[0;34m\u001b[0m\u001b[0m\n\u001b[0m\u001b[1;32m    188\u001b[0m \u001b[0;34m\u001b[0m\u001b[0m\n\u001b[1;32m    189\u001b[0m         \u001b[0;32mif\u001b[0m \u001b[0mcallable\u001b[0m\u001b[0;34m(\u001b[0m\u001b[0marg\u001b[0m\u001b[0;34m)\u001b[0m\u001b[0;34m:\u001b[0m\u001b[0;34m\u001b[0m\u001b[0;34m\u001b[0m\u001b[0m\n",
      "\u001b[0;32m/Library/Frameworks/Python.framework/Versions/3.7/lib/python3.7/site-packages/IPython/core/magics/script.py\u001b[0m in \u001b[0;36mshebang\u001b[0;34m(self, line, cell)\u001b[0m\n\u001b[1;32m    243\u001b[0m             \u001b[0msys\u001b[0m\u001b[0;34m.\u001b[0m\u001b[0mstderr\u001b[0m\u001b[0;34m.\u001b[0m\u001b[0mflush\u001b[0m\u001b[0;34m(\u001b[0m\u001b[0;34m)\u001b[0m\u001b[0;34m\u001b[0m\u001b[0;34m\u001b[0m\u001b[0m\n\u001b[1;32m    244\u001b[0m         \u001b[0;32mif\u001b[0m \u001b[0margs\u001b[0m\u001b[0;34m.\u001b[0m\u001b[0mraise_error\u001b[0m \u001b[0;32mand\u001b[0m \u001b[0mp\u001b[0m\u001b[0;34m.\u001b[0m\u001b[0mreturncode\u001b[0m\u001b[0;34m!=\u001b[0m\u001b[0;36m0\u001b[0m\u001b[0;34m:\u001b[0m\u001b[0;34m\u001b[0m\u001b[0;34m\u001b[0m\u001b[0m\n\u001b[0;32m--> 245\u001b[0;31m             \u001b[0;32mraise\u001b[0m \u001b[0mCalledProcessError\u001b[0m\u001b[0;34m(\u001b[0m\u001b[0mp\u001b[0m\u001b[0;34m.\u001b[0m\u001b[0mreturncode\u001b[0m\u001b[0;34m,\u001b[0m \u001b[0mcell\u001b[0m\u001b[0;34m,\u001b[0m \u001b[0moutput\u001b[0m\u001b[0;34m=\u001b[0m\u001b[0mout\u001b[0m\u001b[0;34m,\u001b[0m \u001b[0mstderr\u001b[0m\u001b[0;34m=\u001b[0m\u001b[0merr\u001b[0m\u001b[0;34m)\u001b[0m\u001b[0;34m\u001b[0m\u001b[0;34m\u001b[0m\u001b[0m\n\u001b[0m\u001b[1;32m    246\u001b[0m \u001b[0;34m\u001b[0m\u001b[0m\n\u001b[1;32m    247\u001b[0m     \u001b[0;32mdef\u001b[0m \u001b[0m_run_script\u001b[0m\u001b[0;34m(\u001b[0m\u001b[0mself\u001b[0m\u001b[0;34m,\u001b[0m \u001b[0mp\u001b[0m\u001b[0;34m,\u001b[0m \u001b[0mcell\u001b[0m\u001b[0;34m,\u001b[0m \u001b[0mto_close\u001b[0m\u001b[0;34m)\u001b[0m\u001b[0;34m:\u001b[0m\u001b[0;34m\u001b[0m\u001b[0;34m\u001b[0m\u001b[0m\n",
      "\u001b[0;31mCalledProcessError\u001b[0m: Command 'b'cd ~/Desktop/Divya/Thesis/annotation/\\nfor CELL in x1 x2 xins\\ndo\\n    if [ ! -f \"$CELL\"_atac_tss_matrix.tab.gz ]; then\\n        computeMatrix reference-point \\\\\\n        --regionsFileName TSS.bed \\\\\\n        --scoreFileName \"$CELL\"_coverage.bw \\\\\\n        --afterRegionStartLength 2500 \\\\\\n        --beforeRegionStartLength 2500 \\\\\\n        -p 24 \\\\\\n        -o \"$CELL\"_atac_tss_matrix.tab.gz\\n    fi;\\ndone\\n'' returned non-zero exit status 1."
     ]
    }
   ],
   "source": [
    "%%bash\n",
    "cd ~/Desktop/Divya/Thesis/annotation/\n",
    "for CELL in x1 x2 xins\n",
    "do\n",
    "    if [ ! -f \"$CELL\"_atac_tss_matrix.tab.gz ]; then\n",
    "        computeMatrix reference-point \\\n",
    "        --regionsFileName TSS.bed \\\n",
    "        --scoreFileName \"$CELL\"_coverage.bw \\\n",
    "        --afterRegionStartLength 2500 \\\n",
    "        --beforeRegionStartLength 2500 \\\n",
    "        -p 24 \\\n",
    "        -o \"$CELL\"_atac_tss_matrix.tab.gz\n",
    "    fi;\n",
    "done"
   ]
  },
  {
   "cell_type": "code",
   "execution_count": null,
   "metadata": {},
   "outputs": [],
   "source": [
    "%%bash\n",
    "cd ~/Desktop/Divya/Thesis/annotation/\n",
    "for CELL in x1 x2 xins\n",
    "do\n",
    "    if [ -f \"$CELL\"_atac_tss_matrix.tab.gz ]; then\n",
    "        TITLE=\"${CELL^} TSS\"\n",
    "        plotHeatmap -m \"$CELL\"_atac_tss_matrix.tab.gz \\\n",
    "        --plotType se \\\n",
    "        --heatmapHeight 28 \\\n",
    "        --heatmapWidth 5 \\\n",
    "        --samplesLabel \"$TITLE\" \\\n",
    "        --xAxisLabel \"Distance (bp)\" \\\n",
    "        --yAxisLabel \"RPKM\" \\\n",
    "        --legendLocation none \\\n",
    "        --whatToShow \"plot, heatmap and colorbar\" \\\n",
    "        --colorMap Blues \\\n",
    "        --missingDataColor 0 \\\n",
    "        --refPointLabel TSS \\\n",
    "        -o \"$CELL\"_atac_tss.pdf\n",
    "    fi;\n",
    "done"
   ]
  },
  {
   "cell_type": "markdown",
   "metadata": {},
   "source": [
    "## ChIP Peak Heatmaps"
   ]
  },
  {
   "cell_type": "markdown",
   "metadata": {},
   "source": [
    "First we generate the matrix using the computeMatrix command. Note: the following script generates the matrices for all cell types if and only if they don't already exist!"
   ]
  },
  {
   "cell_type": "code",
   "execution_count": null,
   "metadata": {},
   "outputs": [],
   "source": [
    "%%bash\n",
    "cd ~/Desktop/Divya/Thesis/annotation/\n",
    "for REGION in k27ac k4me1\n",
    "do\n",
    "    if [ ! -f \"$REGION\"_chip_peak_matrix.tab.gz ]; then\n",
    "        computeMatrix reference-point \\\n",
    "        --regionsFileName h3\"$REGION\"_summits.bed \\\n",
    "        --scoreFileName h3\"$REGION\"_meanlog2.bw \\\n",
    "        --afterRegionStartLength 2500 \\\n",
    "        --beforeRegionStartLength 2500 \\\n",
    "        -p 24 \\\n",
    "        -o \"$REGION\"_chip_peak_matrix.tab.gz\n",
    "    fi;\n",
    "done"
   ]
  },
  {
   "cell_type": "code",
   "execution_count": null,
   "metadata": {},
   "outputs": [],
   "source": []
  },
  {
   "cell_type": "markdown",
   "metadata": {},
   "source": [
    "Now we plot the heatmaps using the deeptools **plotHeatmap** command.\n",
    "\n",
    "Docs: https://deeptools.readthedocs.io/en/develop/content/tools/plotHeatmap.html"
   ]
  },
  {
   "cell_type": "code",
   "execution_count": null,
   "metadata": {},
   "outputs": [],
   "source": [
    "%%bash\n",
    "cd ~/Desktop/Divya/Thesis/annotation/\n",
    "for REGION in k27ac k4me1\n",
    "do\n",
    "    if [ -f \"$REGION\"_chip_peak_matrix.tab.gz ]; then\n",
    "        TITLE=\"H3${REGION^} ATAC peaks\"\n",
    "        plotHeatmap -m \"$REGION\"_chip_peak_matrix.tab.gz \\\n",
    "        --plotType se \\\n",
    "        --heatmapHeight 28 \\\n",
    "        --heatmapWidth 5 \\\n",
    "        --samplesLabel \"$TITLE\" \\\n",
    "        --xAxisLabel \"Distance (bp)\" \\\n",
    "        --yAxisLabel \"log2-fold change\" \\\n",
    "        --regionsLabel enhancers \\\n",
    "        --legendLocation none \\\n",
    "        --whatToShow \"plot, heatmap and colorbar\" \\\n",
    "        --colorMap viridis \\\n",
    "        --missingDataColor 1 \\\n",
    "        --refPointLabel Peak \\\n",
    "        -o \"$REGION\"_chip_peaks.pdf\n",
    "    fi;\n",
    "done\n",
    "\n"
   ]
  },
  {
   "cell_type": "markdown",
   "metadata": {},
   "source": [
    "## ChIP TSS Heatmaps"
   ]
  },
  {
   "cell_type": "markdown",
   "metadata": {},
   "source": [
    "Rinse and repeat."
   ]
  },
  {
   "cell_type": "code",
   "execution_count": null,
   "metadata": {},
   "outputs": [],
   "source": [
    "%%bash\n",
    "cd ~/Desktop/Divya/Thesis/annotation/\n",
    "for REGION in k27ac k4me1\n",
    "do\n",
    "    if [ ! -f \"$REGION\"_chip_tss_matrix.tab.gz ]; then\n",
    "        computeMatrix reference-point \\\n",
    "        --regionsFileName TSS.bed \\\n",
    "        --scoreFileName h3\"$REGION\"_meanlog2.bw \\\n",
    "        --afterRegionStartLength 5000 \\\n",
    "        --beforeRegionStartLength 5000 \\\n",
    "        -p 24 \\\n",
    "        -o \"$REGION\"_chip_tss_matrix.tab.gz\n",
    "    fi;\n",
    "done"
   ]
  },
  {
   "cell_type": "code",
   "execution_count": null,
   "metadata": {},
   "outputs": [],
   "source": [
    "%%bash\n",
    "cd ~/Desktop/Divya/Thesis/annotation/\n",
    "for REGION in k27ac k4me1\n",
    "do\n",
    "    if [ -f \"$REGION\"_chip_tss_matrix.tab.gz ]; then\n",
    "        TITLE=\"H3${REGION^} around TSS\"\n",
    "        plotHeatmap -m \"$REGION\"_chip_tss_matrix.tab.gz \\\n",
    "        --plotType se \\\n",
    "        --heatmapHeight 28 \\\n",
    "        --heatmapWidth 5 \\\n",
    "        --samplesLabel \"$TITLE\" \\\n",
    "        --xAxisLabel \"Distance (bp)\" \\\n",
    "        --yAxisLabel \"log2-fold change\" \\\n",
    "        --regionsLabel enhancers \\\n",
    "        --legendLocation none \\\n",
    "        --whatToShow \"plot, heatmap and colorbar\" \\\n",
    "        --colorMap Blues \\\n",
    "        --missingDataColor 1 \\\n",
    "        --refPointLabel TSS \\\n",
    "        -o \"$REGION\"_chip_tss.pdf\n",
    "    fi;\n",
    "done"
   ]
  },
  {
   "cell_type": "markdown",
   "metadata": {},
   "source": [
    "## Miscellaneous"
   ]
  },
  {
   "cell_type": "markdown",
   "metadata": {},
   "source": [
    "Let's see K27ac around K4me1 peaks. First we compute the matrix, and then we create the heatmap."
   ]
  },
  {
   "cell_type": "code",
   "execution_count": null,
   "metadata": {},
   "outputs": [],
   "source": [
    "%%bash\n",
    "# Compute the matrix file if it doesn't exist already\n",
    "if [ ! -f chip_k27ac_around_k4me1__peak_matrix.tab.gz ]; then\n",
    "    computeMatrix reference-point \\\n",
    "            --regionsFileName h3k4me1_summits.bed \\\n",
    "            --scoreFileName h3k27ac_meanlog2.bw \\\n",
    "            --afterRegionStartLength 2500 \\\n",
    "            --beforeRegionStartLength 2500 \\\n",
    "            -p 24 \\\n",
    "            -o chip_k27ac_around_k4me1_peak_matrix.tab.gz\n",
    "fi;\n",
    "\n",
    "plotHeatmap -m chip_k27ac_around_k4me1_peak_matrix.tab.gz \\\n",
    "        --plotType se \\\n",
    "        --heatmapHeight 28 \\\n",
    "        --heatmapWidth 5 \\\n",
    "        --samplesLabel \"K27ac around K4me1\" \\\n",
    "        --xAxisLabel \"Distance (bp)\" \\\n",
    "        --yAxisLabel \"log2-fold change\" \\\n",
    "        --regionsLabel enhancers \\\n",
    "        --legendLocation none \\\n",
    "        --whatToShow \"plot, heatmap and colorbar\" \\\n",
    "        --colorMap plasma \\\n",
    "        --missingDataColor 0 \\\n",
    "        --refPointLabel Peak \\\n",
    "        -o chip_k27ac_around_k4me1_peak.pdf"
   ]
  },
  {
   "cell_type": "markdown",
   "metadata": {},
   "source": [
    "Do the converse to investigate K4me1 peaks around K27ac."
   ]
  },
  {
   "cell_type": "code",
   "execution_count": null,
   "metadata": {},
   "outputs": [],
   "source": [
    "%%bash\n",
    "\n",
    "# Compute the matrix file if it doesn't exist already\n",
    "if [ ! -f chip_k4me1_around_k27ac_peak_matrix.tab.gz ]; then\n",
    "    computeMatrix reference-point \\\n",
    "            --regionsFileName h3k27ac_summits.bed \\\n",
    "            --scoreFileName h3k4me1_meanlog2.bw \\\n",
    "            --afterRegionStartLength 2500 \\\n",
    "            --beforeRegionStartLength 2500 \\\n",
    "            -p 24 \\\n",
    "            -o chip_k4me1_around_k27ac_peak_matrix.tab.gz\n",
    "fi;\n",
    "\n",
    "plotHeatmap -m chip_k4me1_around_k27ac_peak_matrix.tab.gz \\\n",
    "        --plotType se \\\n",
    "        --heatmapHeight 28 \\\n",
    "        --heatmapWidth 5 \\\n",
    "        --samplesLabel \"K4me1 around K27ac\" \\\n",
    "        --xAxisLabel \"Distance (bp)\" \\\n",
    "        --yAxisLabel \"log2-fold change\" \\\n",
    "        --regionsLabel enhancers \\\n",
    "        --legendLocation none \\\n",
    "        --whatToShow \"plot, heatmap and colorbar\" \\\n",
    "        --colorMap cividis \\\n",
    "        --missingDataColor 0 \\\n",
    "        --refPointLabel Peak \\\n",
    "        -o chip_k4me1_around_k27ac_peak.pdf\n"
   ]
  },
  {
   "cell_type": "code",
   "execution_count": null,
   "metadata": {},
   "outputs": [],
   "source": [
    "##ATAC intergenic and intronic peaks in chip regions"
   ]
  },
  {
   "cell_type": "code",
   "execution_count": null,
   "metadata": {},
   "outputs": [],
   "source": [
    "%%bash\n",
    "cd ~/Desktop/Divya/Thesis/enhancers/\n",
    "plotHeatmap -m atacchipintergenicnew.tab.gz \\\n",
    "    -o atacchipintergenic.pdf \\\n",
    "    --plotType se \\\n",
    "    --heatmapHeight 28 \\\n",
    "    --heatmapWidth 5 \\\n",
    "    --samplesLabel \"Intergenic regions\" \\\n",
    "    --xAxisLabel \"Distance (bp)\" \\\n",
    "    --yAxisLabel \"RPKM\" \\\n",
    "    --legendLocation none \\\n",
    "    --whatToShow \"plot, heatmap and colorbar\" \\\n",
    "    --colorMap plasma \\\n",
    "    --missingDataColor 0 \\\n",
    "    --refPointLabel \"Peak\"\n"
   ]
  },
  {
   "cell_type": "code",
   "execution_count": null,
   "metadata": {},
   "outputs": [],
   "source": [
    "%%bash\n",
    "cd ~/Desktop/Divya/Thesis/enhancers/\n",
    "plotHeatmap -m atacchipintronicnew.tab.gz \\\n",
    "    --plotType se \\\n",
    "    --heatmapHeight 28 \\\n",
    "    --heatmapWidth 5 \\\n",
    "    --samplesLabel \"Intronic regions\" \\\n",
    "    --xAxisLabel \"Distance (bp)\" \\\n",
    "    --yAxisLabel \"RPKM\" \\\n",
    "    --legendLocation none \\\n",
    "    --whatToShow \"plot, heatmap and colorbar\" \\\n",
    "    --colorMap plasma \\\n",
    "    --missingDataColor 0 \\\n",
    "    --refPointLabel Peak \\\n",
    "    -o atacchipintronic.pdf"
   ]
  },
  {
   "cell_type": "code",
   "execution_count": null,
   "metadata": {},
   "outputs": [],
   "source": []
  },
  {
   "cell_type": "code",
   "execution_count": null,
   "metadata": {},
   "outputs": [],
   "source": []
  }
 ],
 "metadata": {
  "kernelspec": {
   "display_name": "Python 3",
   "language": "python",
   "name": "python3"
  },
  "language_info": {
   "codemirror_mode": {
    "name": "ipython",
    "version": 3
   },
   "file_extension": ".py",
   "mimetype": "text/x-python",
   "name": "python",
   "nbconvert_exporter": "python",
   "pygments_lexer": "ipython3",
   "version": "3.7.9"
  }
 },
 "nbformat": 4,
 "nbformat_minor": 4
}
